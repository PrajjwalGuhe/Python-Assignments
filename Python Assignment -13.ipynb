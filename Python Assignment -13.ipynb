{
 "cells": [
  {
   "cell_type": "markdown",
   "metadata": {},
   "source": [
    "# Assignment Solution -13"
   ]
  },
  {
   "cell_type": "markdown",
   "metadata": {},
   "source": [
    "### 1. Explain what inheritance is in object-oriented programming and why it is used."
   ]
  },
  {
   "cell_type": "markdown",
   "metadata": {},
   "source": [
    "**Ans:** \n",
    "* `Inheritance` in Python's object-oriented programming is a mechanism where a class can inherit attributes and methods from another class, known as the base or parent class.\n",
    "* It is used to promote code reuse and establish a `hierarchical relationship` between classes. By inheriting from a base class, a derived or child class can access and extend the functionalities defined in the base class, reducing code duplication and enhancing modularity."
   ]
  },
  {
   "cell_type": "markdown",
   "metadata": {},
   "source": [
    "### 2. Discuss the concept of single inheritance and multiple inheritance, highlighting their differences and advantages."
   ]
  },
  {
   "cell_type": "markdown",
   "metadata": {},
   "source": [
    "**Ans:** \n",
    "* `Single` inheritance in Python involves a class inheriting from a single base class. This means that a derived class can inherit attributes and methods from only one parent class. \n",
    "* On the other hand, `multiple` inheritance allows a class to inherit from multiple base classes. This means that a derived class can inherit attributes and methods from multiple parent classes. \n",
    "* `Single` inheritance provides a simpler and more straight forward relationship between classes, while multiple inheritance offers more flexibility and the ability to combine features from different sources. \n",
    "* However, `multiple` inheritance can also introduce increased complexity and potential conflicts if not managed carefully."
   ]
  },
  {
   "cell_type": "markdown",
   "metadata": {},
   "source": [
    "### 3. Explain the terms \"base class\" and \"derived class\" in the context of inheritance."
   ]
  },
  {
   "cell_type": "markdown",
   "metadata": {},
   "source": [
    "**Ans:**\n",
    "* In the context of inheritance, the `base class` refers to the class being inherited from, and it is also called the `superclass`. \n",
    "* The `derived class` refers to the class that inherits from the base class or extends its functionality, and it is also known as the `subclass`. \n",
    "* The derived class inherits the attributes and methods of the base class and can add its own unique attributes and methods."
   ]
  },
  {
   "cell_type": "markdown",
   "metadata": {},
   "source": [
    "### 4. What is the significance of the \"protected\" access modifier in inheritance? How does it differ from \"private\" and \"public\" modifiers?"
   ]
  },
  {
   "cell_type": "markdown",
   "metadata": {},
   "source": [
    "**Ans:**\n",
    "* The `protected` access modifier has significance in inheritance. When a member variable or method is marked as `protected` in the base class, it can be accessed by the derived class and other classes within the same module or package. \n",
    "* It is more accessible than the `private` modifier, which restricts access to only the defining class, but less accessible than the `public` modifier, which allows unrestricted access from any class."
   ]
  },
  {
   "cell_type": "markdown",
   "metadata": {},
   "source": [
    "### 5. What is the purpose of the \"super\" keyword in inheritance? Provide an example."
   ]
  },
  {
   "cell_type": "markdown",
   "metadata": {},
   "source": [
    "**Ans:** \n",
    "* The `super` keyword in Python is used to refer to the parent class or base class within the context of inheritance. It is primarily used to invoke the parent class's methods or access its attributes. By using the `super` keyword, you can explicitly call the parent class's methods and initialize inherited members or extend their functionality. Here's an example:"
   ]
  },
  {
   "cell_type": "code",
   "execution_count": 1,
   "metadata": {},
   "outputs": [
    {
     "name": "stdout",
     "output_type": "stream",
     "text": [
      "Name: Jon Snow\n",
      "Age: 23\n",
      "\n",
      "Name: John Wick\n",
      "Age: 25\n",
      "Employee ID: 1234\n"
     ]
    }
   ],
   "source": [
    "\n",
    "class Person:\n",
    "    def __init__(self, name, age):\n",
    "        self.name = name\n",
    "        self.age = age\n",
    "\n",
    "    def display_info(self):\n",
    "        print(\"Name:\", self.name)\n",
    "        print(\"Age:\", self.age)\n",
    "\n",
    "\n",
    "class Employee(Person):\n",
    "    def __init__(self, name, age, employee_id):\n",
    "        super().__init__(name, age)\n",
    "        self.employee_id = employee_id\n",
    "\n",
    "    def display_info(self):\n",
    "        super().display_info()\n",
    "        print(\"Employee ID:\", self.employee_id)\n",
    "\n",
    "\n",
    "person = Person(\"Jon Snow\", 23)\n",
    "person.display_info()\n",
    "print()\n",
    "employee = Employee(\"John Wick\", 25, 1234)\n",
    "employee.display_info()\n"
   ]
  },
  {
   "cell_type": "markdown",
   "metadata": {},
   "source": [
    "### 6. Create a base class called \"Vehicle\" with attributes like \"make\", \"model\", and \"year\".Then, create a derived class called \"Car\" that inherits from \"Vehicle\" and adds anattribute called \"fuel_type\". Implement appropriate methods in both classes."
   ]
  },
  {
   "cell_type": "markdown",
   "metadata": {},
   "source": [
    "**Ans:**"
   ]
  },
  {
   "cell_type": "code",
   "execution_count": 2,
   "metadata": {},
   "outputs": [
    {
     "name": "stdout",
     "output_type": "stream",
     "text": [
      "Make: TATA\n",
      "Model: PUNCH\n",
      "Year: 2023\n",
      "Fuel Type: Petrol\n"
     ]
    }
   ],
   "source": [
    "class Vehicle:\n",
    "    def __init__(self, make, model, year):\n",
    "        self.make = make\n",
    "        self.model = model\n",
    "        self.year = year\n",
    "\n",
    "    def display_info(self):\n",
    "        print(\"Make:\", self.make)\n",
    "        print(\"Model:\", self.model)\n",
    "        print(\"Year:\", self.year)\n",
    "\n",
    "\n",
    "class Car(Vehicle):\n",
    "    def __init__(self, make, model, year, fuel_type):\n",
    "        super().__init__(make, model, year) \n",
    "        self.fuel_type = fuel_type\n",
    "\n",
    "    def display_info(self):\n",
    "        super().display_info()  \n",
    "        print(\"Fuel Type:\", self.fuel_type)\n",
    "\n",
    "\n",
    "my_car = Car(\"TATA\", \"PUNCH\", 2023, \"Petrol\")\n",
    "my_car.display_info()\n"
   ]
  },
  {
   "cell_type": "markdown",
   "metadata": {},
   "source": [
    "### 7. Create a base class called \"Employee\" with attributes like \"name\" and \"salary. \"Derive two classes, \"Manager\" and \"Developer,\" from \"Employee.\"  Add an additional attribute called \"department\" for the \"Manager\" class and \"programming_language\"for the \"Developer\" class."
   ]
  },
  {
   "cell_type": "markdown",
   "metadata": {},
   "source": [
    "**Ans:**"
   ]
  },
  {
   "cell_type": "code",
   "execution_count": 5,
   "metadata": {},
   "outputs": [
    {
     "name": "stdout",
     "output_type": "stream",
     "text": [
      "Name: Uday Shetty\n",
      "Salary: 60000\n",
      "Department: IT\n",
      "\n",
      "Name: Suniel Shetty\n",
      "Salary: 45000\n",
      "Programming Language: Python\n"
     ]
    }
   ],
   "source": [
    "class Employee:\n",
    "    def __init__(self, name, salary):\n",
    "        self.name = name\n",
    "        self.salary = salary\n",
    "\n",
    "    def display_info(self):\n",
    "        print(\"Name:\", self.name)\n",
    "        print(\"Salary:\", self.salary)\n",
    "\n",
    "\n",
    "class Manager(Employee):\n",
    "    def __init__(self, name, salary, department):\n",
    "        super().__init__(name, salary)  \n",
    "        self.department = department\n",
    "\n",
    "    def display_info(self):\n",
    "        super().display_info()  \n",
    "        print(\"Department:\", self.department)\n",
    "\n",
    "\n",
    "class Developer(Employee):\n",
    "    def __init__(self, name, salary, programming_language):\n",
    "        super().__init__(name, salary) \n",
    "        self.programming_language = programming_language\n",
    "\n",
    "    def display_info(self):\n",
    "        super().display_info()\n",
    "        print(\"Programming Language:\", self.programming_language)\n",
    "\n",
    "\n",
    "manager = Manager(\"Uday Shetty\", 60000, \"IT\")\n",
    "manager.display_info()\n",
    "\n",
    "print()\n",
    "\n",
    "developer = Developer(\"Suniel Shetty\", 45000, \"Python\")\n",
    "developer.display_info()\n"
   ]
  },
  {
   "cell_type": "markdown",
   "metadata": {},
   "source": [
    "### 8. Design a base class called \"Shape\" with attributes like \"colour\" and \"border_width.\" Create derived classes, \"Rectangle\" and \"Circle,\" that inherit from \"Shape\" and add specific attributes like \"length\" and \"width\" for the \"Rectangle\" class and \"radius\" forthe \"Circle\" class."
   ]
  },
  {
   "cell_type": "markdown",
   "metadata": {},
   "source": [
    "**Ans:**"
   ]
  },
  {
   "cell_type": "code",
   "execution_count": 6,
   "metadata": {},
   "outputs": [
    {
     "name": "stdout",
     "output_type": "stream",
     "text": [
      "Colour: Teal\n",
      "Border Width: 2\n",
      "Length: 10\n",
      "Width: 5\n",
      "\n",
      "Colour: Red\n",
      "Border Width: 1\n",
      "Radius: 7\n"
     ]
    }
   ],
   "source": [
    "class Shape:\n",
    "    def __init__(self, colour, border_width):\n",
    "        self.colour = colour\n",
    "        self.border_width = border_width\n",
    "\n",
    "    def display_info(self):\n",
    "        print(\"Colour:\", self.colour)\n",
    "        print(\"Border Width:\", self.border_width)\n",
    "\n",
    "\n",
    "class Rectangle(Shape):\n",
    "    def __init__(self, colour, border_width, length, width):\n",
    "        super().__init__(colour, border_width)  \n",
    "        self.length = length\n",
    "        self.width = width\n",
    "\n",
    "    def display_info(self):\n",
    "        super().display_info()  \n",
    "        print(\"Length:\", self.length)\n",
    "        print(\"Width:\", self.width)\n",
    "\n",
    "\n",
    "class Circle(Shape):\n",
    "    def __init__(self, colour, border_width, radius):\n",
    "        super().__init__(colour, border_width)  \n",
    "        self.radius = radius\n",
    "\n",
    "    def display_info(self):\n",
    "        super().display_info()  \n",
    "        print(\"Radius:\", self.radius)\n",
    "\n",
    "\n",
    "rectangle = Rectangle(\"Teal\", 2, 10, 5)\n",
    "rectangle.display_info()\n",
    "print()\n",
    "circle = Circle(\"Red\", 1, 7)\n",
    "circle.display_info()\n"
   ]
  },
  {
   "cell_type": "markdown",
   "metadata": {},
   "source": [
    "### 9. Create a base class called \"Device\" with attributes like \"brand\" and \"model.\" Derive two classes, \"Phone\" and \"Tablet,\" from \"Device.\" Add specific attributes like \"screen_size\" for the \"Phone\" class and \"battery_capacity\" for the \"Tablet\" class."
   ]
  },
  {
   "cell_type": "markdown",
   "metadata": {},
   "source": [
    "**Ans:**"
   ]
  },
  {
   "cell_type": "code",
   "execution_count": 7,
   "metadata": {},
   "outputs": [
    {
     "name": "stdout",
     "output_type": "stream",
     "text": [
      "Brand: Apple\n",
      "Model: iPhone 14\n",
      "Screen Size: 5.9 inches\n",
      "\n",
      "Brand: Lenovo\n",
      "Model: M10 HD+\n",
      "Battery Capacity: 4000 mAh\n"
     ]
    }
   ],
   "source": [
    "class Device:\n",
    "    def __init__(self, brand, model):\n",
    "        self.brand = brand\n",
    "        self.model = model\n",
    "\n",
    "    def display_info(self):\n",
    "        print(\"Brand:\", self.brand)\n",
    "        print(\"Model:\", self.model)\n",
    "\n",
    "\n",
    "class Phone(Device):\n",
    "    def __init__(self, brand, model, screen_size):\n",
    "        super().__init__(brand, model)  \n",
    "        self.screen_size = screen_size\n",
    "\n",
    "    def display_info(self):\n",
    "        super().display_info() \n",
    "        print(\"Screen Size:\", self.screen_size)\n",
    "\n",
    "\n",
    "class Tablet(Device):\n",
    "    def __init__(self, brand, model, battery_capacity):\n",
    "        super().__init__(brand, model)  \n",
    "        self.battery_capacity = battery_capacity\n",
    "\n",
    "    def display_info(self):\n",
    "        super().display_info() \n",
    "        print(\"Battery Capacity:\", self.battery_capacity)\n",
    "\n",
    "\n",
    "phone = Phone(\"Apple\", \"iPhone 14\", \"5.9 inches\")\n",
    "phone.display_info()\n",
    "\n",
    "print()\n",
    "\n",
    "tablet = Tablet(\"Lenovo\", \"M10 HD+\", \"4000 mAh\")\n",
    "tablet.display_info()\n"
   ]
  },
  {
   "cell_type": "markdown",
   "metadata": {},
   "source": [
    "### 10. Create a base class called \"BankAccount\" with attributes like \"account_number\" and \"balance.\" Derive two classes, \"SavingsAccount\" and \"CheckingAccount,\" from \"BankAccount.\" Add specific methods like \"calculate_interest\" for the \"SavingsAccount\" class and \"deduct_fees\" for the \"CheckingAccount\" class."
   ]
  },
  {
   "cell_type": "markdown",
   "metadata": {},
   "source": [
    "**Ans:**"
   ]
  },
  {
   "cell_type": "code",
   "execution_count": 10,
   "metadata": {},
   "outputs": [
    {
     "name": "stdout",
     "output_type": "stream",
     "text": [
      "Account Number: 5465444515\n",
      "Balance: 5000\n",
      "\n",
      "Interest calculated: 30000\n",
      "Account Number: 5465444515\n",
      "Balance: 35000\n",
      "\n",
      "Account Number: 8654523444\n",
      "Balance: 10000\n",
      "\n",
      "Fees deducted: 100\n",
      "Account Number: 8654523444\n",
      "Balance: 9900\n"
     ]
    }
   ],
   "source": [
    "class BankAccount:\n",
    "    def __init__(self, account_number, balance):\n",
    "        self.account_number = account_number\n",
    "        self.balance = balance\n",
    "\n",
    "    def display_info(self):\n",
    "        print(\"Account Number:\", self.account_number)\n",
    "        print(\"Balance:\", self.balance)\n",
    "\n",
    "\n",
    "class SavingsAccount(BankAccount):\n",
    "    def __init__(self, account_number, balance):\n",
    "        super().__init__(account_number, balance)  \n",
    "\n",
    "    def calculate_interest(self, interest_rate):\n",
    "        interest = self.balance * interest_rate\n",
    "        self.balance += interest\n",
    "        print(\"Interest calculated:\", interest)\n",
    "\n",
    "\n",
    "class CheckingAccount(BankAccount):\n",
    "    def __init__(self, account_number, balance):\n",
    "        super().__init__(account_number, balance)  \n",
    "\n",
    "    def deduct_fees(self, fee_amount):\n",
    "        self.balance -= fee_amount\n",
    "        print(\"Fees deducted:\", fee_amount)\n",
    "\n",
    "\n",
    "savings_account = SavingsAccount(\"5465444515\", 5000)\n",
    "savings_account.display_info()\n",
    "print()\n",
    "savings_account.calculate_interest(6)\n",
    "savings_account.display_info()\n",
    "print()\n",
    "checking_account = CheckingAccount(\"8654523444\", 10000)\n",
    "checking_account.display_info()\n",
    "print()\n",
    "checking_account.deduct_fees(100)\n",
    "checking_account.display_info()\n"
   ]
  }
 ],
 "metadata": {
  "kernelspec": {
   "display_name": "Python 3 (ipykernel)",
   "language": "python",
   "name": "python3"
  },
  "language_info": {
   "codemirror_mode": {
    "name": "ipython",
    "version": 3
   },
   "file_extension": ".py",
   "mimetype": "text/x-python",
   "name": "python",
   "nbconvert_exporter": "python",
   "pygments_lexer": "ipython3",
   "version": "3.10.5"
  }
 },
 "nbformat": 4,
 "nbformat_minor": 2
}

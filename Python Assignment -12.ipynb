{
 "cells": [
  {
   "cell_type": "markdown",
   "id": "1ecdfcb9",
   "metadata": {},
   "source": [
    "# Assignment Solution - 12\n"
   ]
  },
  {
   "cell_type": "markdown",
   "id": "158a809b",
   "metadata": {},
   "source": [
    "### 1. What is the primary goal of Object-Oriented Programming (OOP)?"
   ]
  },
  {
   "cell_type": "markdown",
   "id": "289a0e87",
   "metadata": {},
   "source": [
    "**Ans:** \n",
    "* The main goal of `Object-Oriented Programming (OOP)` is to make code more organized and reusable. \n",
    "* In OOP, we think of real-world things or ideas as objects, which have both data and actions. We create these objects from blueprints called `classes`.\n",
    "* `Classes` define what objects of a certain type can do and what information they can store.\n",
    "* `OOP` allows objects to communicate and work together to solve problems. It's like a way of modeling the real world in code, making it easier to understand and manage. \n",
    "* The important principles in OOP are `encapsulation`, `inheritance`, and `polymorphism`."
   ]
  },
  {
   "cell_type": "markdown",
   "id": "4353bdf7",
   "metadata": {},
   "source": [
    "### 2. What is an object in Python?"
   ]
  },
  {
   "cell_type": "markdown",
   "id": "45d200d3",
   "metadata": {},
   "source": [
    "**Ans:** \n",
    "* In Python, an `object` is like a thing or an idea that we can work with in our code. It's a specific example of a `class`, which is like a `blueprint` or a `template`.\n",
    "* Each object has its own special identity, characteristics, and actions it can perform.\n",
    "* We can create `objects` by using the `blueprint (class)` and give them specific values or behaviors.\n",
    "* In Python, almost everything is an object, whether it's a `number`, a `word`, or something we make ourselves.\n",
    "* Objects can do things and have their own unique properties that we can `access` and `change`."
   ]
  },
  {
   "cell_type": "markdown",
   "id": "a917bff3",
   "metadata": {},
   "source": [
    "### 3. What is a class in Python?"
   ]
  },
  {
   "cell_type": "markdown",
   "id": "d85ac3f4",
   "metadata": {},
   "source": [
    "**Ans:** \n",
    "* In Python, a `class` is like a `blueprint` or a plan for making objects. It tells us how an object should look and what it can do.\n",
    "* It defines the structure, which means what kind of `information` the object can hold. It also defines the methods, which are like the `actions` or `functions` the object can perform.\n",
    "* Think of a class as a way to organize and package together related data and actions.\n",
    "* When we create an `object` from a `class`, we're making a real thing based on that `blueprint``.\n",
    "* The object `inherits` all the attributes and methods defined in the class. So, classes help us create and manage objects with consistent features and behaviors."
   ]
  },
  {
   "cell_type": "markdown",
   "id": "508429bc",
   "metadata": {},
   "source": [
    "### 4. What are attributes and methods in a class?"
   ]
  },
  {
   "cell_type": "markdown",
   "id": "50bd46e2",
   "metadata": {},
   "source": [
    "**Ans:**\n",
    "* In a `class`, `attributes` are like containers that hold information about an object. They store data that describes the object's characteristics or state. Attributes can be things like size, color, or any other property. In Python, attributes can be shared by all objects of the class or specific to each object .\n",
    "\n",
    "* `Methods` in a class are like special functions that describe what an object can do or how it can behave. They define the actions or behaviors that an object can perform. Methods can use and modify the object's attributes. They can also interact with other objects or perform specific tasks. We can think of methods as the functions that belong to an object and help it work or do things."
   ]
  },
  {
   "cell_type": "markdown",
   "id": "1ebf4696",
   "metadata": {},
   "source": [
    "### 5. What is the difference between class variables and instance variables in Python?"
   ]
  },
  {
   "cell_type": "markdown",
   "id": "862777a3",
   "metadata": {},
   "source": [
    "**Ans:** \n",
    "\n",
    "* **Class variables**: These are like shared information among all the objects of a class. They are declared outside any methods in the class. Class variables have the same value for all objects. They are used for storing data that is common to all instances of the class. Changes made to class variables affect all objects.\n",
    "\n",
    "* **Instance variables**: These are personal data for each object of a class. They are declared within the methods of the class and use the \"self\" keyword. Instance variables hold data that can be different for each object. Each object has its own copy of instance variables. Changes made to instance variables only affect the specific object they belong to.\n",
    "\n",
    "* In simpler words, class variables are like shared information, while instance variables are personal data for each object."
   ]
  },
  {
   "cell_type": "markdown",
   "id": "8ead43e0",
   "metadata": {},
   "source": [
    "### 6. What is the purpose of the self parameter in Python class methods?"
   ]
  },
  {
   "cell_type": "markdown",
   "id": "412bc1e9",
   "metadata": {},
   "source": [
    "**Ans:** \n",
    "* class methods, the `\"self\"` parameter refers to the object itself. It's like a way of talking about the object from inside the class. We use the name `\"self\"` by convention, but we can use any name we want. The purpose of the self parameter is to let methods access and change the object's attributes and methods.\n",
    "\n",
    "* When we call a method on an object, Python automatically sends the object itself as the first argument to the method, and we catch it with the self parameter. By using self, we can talk about the specific object and do things with its attributes or call other methods inside the class.\n",
    "\n",
    "* The `self` parameter helps us tell the difference between things that are specific to each object and things that all objects share. It lets us work with the unique qualities and behaviors of the object that the method is being used on."
   ]
  },
  {
   "cell_type": "markdown",
   "id": "042b8acc",
   "metadata": {},
   "source": [
    "### 7. For a library management system, you have to design the \"Book\" class with OOP principles in mind. \n",
    "\n",
    "The `Book` class will have following attributes:\n",
    "* `title`: Represents the title of the book.\n",
    "* `author`: Represents the author(s) of the book.\n",
    "* `isbn`: Represents the ISBN (International Standard Book Number) of the book.\n",
    "* `publication_year`: Represents the year of publication of the book.\n",
    "* `available_copies`: Represents the number of copies available for checkout.\n",
    "\n",
    "The class will also include the following methods:\n",
    "* `check_out(self)`: Decrements the available copies by one if there are copies available for checkout.\n",
    "* `return_book(self)`: Increments the available copies by one when a book is returned.\n",
    "* `display_book_info(self)`: Displays the information about the book, including its attributes and the number of available copies."
   ]
  },
  {
   "cell_type": "code",
   "execution_count": 17,
   "id": "49afd3c8",
   "metadata": {},
   "outputs": [
    {
     "name": "stdout",
     "output_type": "stream",
     "text": [
      "Book checked out successfully!\n",
      "\n",
      "    Book Information:\n",
      "    \n",
      "    Title: Learn Python In 2 Weeks\n",
      "    Author: INueron\n",
      "    ISBN: 897678\n",
      "    Publication Year: 2023\n",
      "    Available Copies: 4\n",
      "    \n",
      "Book returned successfully!\n"
     ]
    }
   ],
   "source": [
    "class Book:\n",
    "    def __init__(self, title, author, isbn, publication_year, available_copies):\n",
    "        self.title = title\n",
    "        self.author = author\n",
    "        self.isbn = isbn\n",
    "        self.publication_year = publication_year\n",
    "        self.available_copies = available_copies\n",
    "\n",
    "    def check_out(self):\n",
    "        if self.available_copies > 0:\n",
    "            self.available_copies -= 1\n",
    "            return \"Book checked out successfully!\"\n",
    "        else:\n",
    "            return \"Sorry, no copies available for checkout.\"\n",
    "\n",
    "    def return_book(self):\n",
    "        self.available_copies += 1\n",
    "        return \"Book returned successfully!\"\n",
    "\n",
    "    def display_book_info(self):\n",
    "        return f'''\n",
    "    Book Information:\n",
    "    \n",
    "    Title: {self.title}\n",
    "    Author: {self.author}\n",
    "    ISBN: {self.isbn}\n",
    "    Publication Year: {self.publication_year}\n",
    "    Available Copies: {self.available_copies}\n",
    "    '''\n",
    "\n",
    "\n",
    "book = Book(\"Learn Python In 2 Weeks\", \"INueron\", \"897678\", 2023, 5)\n",
    "print(book.check_out())\n",
    "print(book.display_book_info())\n",
    "print(book.return_book())"
   ]
  },
  {
   "cell_type": "markdown",
   "id": "df602375",
   "metadata": {},
   "source": [
    "### 8. For a ticket booking system, you have to design the \"Ticket\" class with OOP principles in mind. The `Ticket` class should have the following attributes:\n",
    "\n",
    "* `ticket_id`: Represents the unique identifier for the ticket.\n",
    "* `event_name`: Represents the name of the event.\n",
    "* `event_date`: Represents the date of the event.\n",
    "* `venue`: Represents the venue of the event.\n",
    "* `seat_number`: Represents the seat number associated with the ticket.\n",
    "* `price`: Represents the price of the ticket.\n",
    "* `is_reserved`: Represents the reservation status of the ticket.\n",
    "\n",
    "The class also includes the following methods:\n",
    "* `reserve_ticket`(self): Marks the ticket as reserved if it is not already reserved.\n",
    "* `cancel_reservation`(self): Cancels the reservation of the ticket if it is already\n",
    "reserved.\n",
    "* `display_ticket_info`(self): Displays the information about the ticket, including its\n",
    "attributes and reservation status."
   ]
  },
  {
   "cell_type": "code",
   "execution_count": 20,
   "id": "760bd328",
   "metadata": {},
   "outputs": [
    {
     "name": "stdout",
     "output_type": "stream",
     "text": [
      "\n",
      "        Ticket Information:\n",
      "        \n",
      "        Ticket ID: T14\n",
      "        Event Name: RAFTAAЯ L!ve\n",
      "        Event Date: 2023-08-10\n",
      "        Venue: JIO Park\n",
      "        Seat Number: BIGG FAN Pit\n",
      "        Price: 2899\n",
      "        Reservation Status: Not Reserved\n",
      "        \n",
      "Ticket reserved successfully!\n",
      "\n",
      "        Ticket Information:\n",
      "        \n",
      "        Ticket ID: T14\n",
      "        Event Name: RAFTAAЯ L!ve\n",
      "        Event Date: 2023-08-10\n",
      "        Venue: JIO Park\n",
      "        Seat Number: BIGG FAN Pit\n",
      "        Price: 2899\n",
      "        Reservation Status: Reserved\n",
      "        \n",
      "Ticket reservation canceled successfully!\n",
      "\n",
      "        Ticket Information:\n",
      "        \n",
      "        Ticket ID: T14\n",
      "        Event Name: RAFTAAЯ L!ve\n",
      "        Event Date: 2023-08-10\n",
      "        Venue: JIO Park\n",
      "        Seat Number: BIGG FAN Pit\n",
      "        Price: 2899\n",
      "        Reservation Status: Not Reserved\n",
      "        \n"
     ]
    }
   ],
   "source": [
    "class Ticket:\n",
    "    def __init__(self, ticket_id, event_name, event_date, venue, seat_number, price):\n",
    "        self.ticket_id = ticket_id\n",
    "        self.event_name = event_name\n",
    "        self.event_date = event_date\n",
    "        self.venue = venue\n",
    "        self.seat_number = seat_number\n",
    "        self.price = price\n",
    "        self.is_reserved = False\n",
    "    \n",
    "    def reserve_ticket(self):\n",
    "        if self.is_reserved == False:\n",
    "            self.is_reserved = True\n",
    "            return(\"Ticket reserved successfully!\")\n",
    "        else:\n",
    "            return(\"Ticket is already reserved.\")\n",
    "    \n",
    "    def cancel_reservation(self):\n",
    "        if self.is_reserved :\n",
    "            self.is_reserved = False\n",
    "            return(\"Ticket reservation canceled successfully!\")\n",
    "        else:\n",
    "            return(\"Ticket is not reserved.\")\n",
    "            \n",
    "    def display_ticket_info(self):\n",
    "        return f'''\n",
    "        Ticket Information:\n",
    "        \n",
    "        Ticket ID: {self.ticket_id}\n",
    "        Event Name: {self.event_name}\n",
    "        Event Date: {self.event_date}\n",
    "        Venue: {self.venue}\n",
    "        Seat Number: {self.seat_number}\n",
    "        Price: {self.price}\n",
    "        Reservation Status: {\"Reserved\" if self.is_reserved else \"Not Reserved\"}\n",
    "        '''\n",
    "\n",
    "ticket1 = Ticket(\"T14\", \"RAFTAAЯ L!ve\", \"2023-08-10\", \"JIO Park\", \"BIGG FAN Pit\", 2899)\n",
    "print(ticket1.display_ticket_info())\n",
    "print(ticket1.reserve_ticket())\n",
    "print(ticket1.display_ticket_info())\n",
    "print(ticket1.cancel_reservation())\n",
    "print(ticket1.display_ticket_info())"
   ]
  },
  {
   "cell_type": "markdown",
   "id": "78d1fee8",
   "metadata": {},
   "source": [
    "### 9. You are creating a shopping cart for an e-commerce website. Using OOP to model the `ShoppingCart` functionality the class should contain following attributes and methods:\n",
    "\n",
    "* `items`: Represents the list of items in the shopping cart.\n",
    "\n",
    "The class also includes the following methods:\n",
    "\n",
    "* `add_item`(self, item): Adds an item to the shopping cart by appending it to the\n",
    "list of items.\n",
    "* `remove_item`(self, item): Removes an item from the shopping cart if it exists in\n",
    "the list.\n",
    "* `view_cart`(self): Displays the items currently present in the shopping cart.\n",
    "* `clear_cart`(self): Clears all items from the shopping cart by reassigning an empty list to the items attribute."
   ]
  },
  {
   "cell_type": "code",
   "execution_count": 18,
   "id": "4d1c1827",
   "metadata": {},
   "outputs": [
    {
     "name": "stdout",
     "output_type": "stream",
     "text": [
      "Item added to the shopping cart.\n",
      "Item added to the shopping cart.\n",
      "Item added to the shopping cart.\n",
      "\n",
      "Shopping Cart:\n",
      "Butter\n",
      "Milk\n",
      "Bread\n",
      "\n",
      "Item removed from the shopping cart.\n",
      "\n",
      "Shopping Cart:\n",
      "Butter\n",
      "Bread\n",
      "\n",
      "Shopping cart cleared.\n",
      "Your shopping cart is empty.\n"
     ]
    }
   ],
   "source": [
    "class ShoppingCart:\n",
    "    def __init__(self):\n",
    "        self.items = []\n",
    "\n",
    "    def add_item(self, item):\n",
    "        self.items.append(item)\n",
    "        return \"Item added to the shopping cart.\"\n",
    "\n",
    "    def remove_item(self, item):\n",
    "        if item in self.items:\n",
    "            self.items.remove(item)\n",
    "            return \"Item removed from the shopping cart.\"\n",
    "        else:\n",
    "            return \"Item is not present in the shopping cart.\"\n",
    "\n",
    "    def view_cart(self):\n",
    "        if self.items:\n",
    "            cart_items = \"\\n\".join(self.items)\n",
    "            return f\"\\nShopping Cart:\\n{cart_items}\\n\"\n",
    "        else:\n",
    "            return \"Your shopping cart is empty.\"\n",
    "    \n",
    "    def clear_cart(self):\n",
    "        self.items = []\n",
    "        return \"Shopping cart cleared.\"\n",
    "\n",
    "\n",
    "cart = ShoppingCart()\n",
    "\n",
    "print(cart.add_item(\"Butter\"))\n",
    "print(cart.add_item(\"Milk\"))\n",
    "print(cart.add_item(\"Bread\"))\n",
    "print(cart.view_cart())\n",
    "print(cart.remove_item(\"Milk\"))\n",
    "print(cart.view_cart())\n",
    "print(cart.clear_cart())\n",
    "print(cart.view_cart())"
   ]
  },
  {
   "cell_type": "markdown",
   "id": "68f559d5",
   "metadata": {},
   "source": [
    "### 10. Imagine a school management system. You have to design the `Student` class using OOP concepts.The `Student` class has the following attributes:\n",
    "\n",
    "* `name`: Represents the name of the student.\n",
    "* `age`: Represents the age of the student.\n",
    "* `grade`: Represents the grade or class of the student.\n",
    "* `student_id`: Represents the unique identifier for the student.\n",
    "* `attendance`: Represents the attendance record of the student.\n",
    "\n",
    "The class should also include the following methods:\n",
    "* `update_attendance`(self, date, status): Updates the attendance record of the student for a given date with the provided status (e.g., present or absent).\n",
    "* `get_attendance`(self): Returns the attendance record of the student.\n",
    "* `get_average_attendance`(self): Calculates and returns the average attendance percentage of the student based on their attendance record."
   ]
  },
  {
   "cell_type": "code",
   "execution_count": 21,
   "id": "034f06ce",
   "metadata": {},
   "outputs": [
    {
     "name": "stdout",
     "output_type": "stream",
     "text": [
      "attendance_record --> {'2023-07-01': 'present', '2023-07-02': 'absent', '2023-07-03': 'present'}\n",
      "average_attendance --> 66.66666666666666\n"
     ]
    }
   ],
   "source": [
    "class Student:\n",
    "    def __init__(self, name, age, grade, student_id):\n",
    "        self.name = name\n",
    "        self.age = age\n",
    "        self.grade = grade\n",
    "        self.student_id = student_id\n",
    "        self.attendance = {}\n",
    "\n",
    "    def update_attendance(self, date, status):\n",
    "        self.attendance[date] = status\n",
    "\n",
    "    def get_attendance(self):\n",
    "        return self.attendance\n",
    "\n",
    "    def get_average_attendance(self):\n",
    "        total_days = len(self.attendance)\n",
    "        present_days = list(self.attendance.values()).count(\"present\")\n",
    "        if total_days > 0:\n",
    "            attendance_percentage = (present_days / total_days) * 100\n",
    "            return attendance_percentage\n",
    "        else:\n",
    "            return 0.0\n",
    "        \n",
    "        \n",
    "student1 = Student(\"Prajjwal Guhe\", 23, \"A+\", 213)\n",
    "\n",
    "student1.update_attendance(\"2023-07-01\", \"present\")\n",
    "student1.update_attendance(\"2023-07-02\", \"absent\")\n",
    "student1.update_attendance(\"2023-07-03\", \"present\")\n",
    "\n",
    "attendance_record = student1.get_attendance()\n",
    "print(\"attendance_record -->\", attendance_record)\n",
    "average_attendance = student1.get_average_attendance()\n",
    "print(\"average_attendance -->\", average_attendance)"
   ]
  }
 ],
 "metadata": {
  "kernelspec": {
   "display_name": "Python 3 (ipykernel)",
   "language": "python",
   "name": "python3"
  },
  "language_info": {
   "codemirror_mode": {
    "name": "ipython",
    "version": 3
   },
   "file_extension": ".py",
   "mimetype": "text/x-python",
   "name": "python",
   "nbconvert_exporter": "python",
   "pygments_lexer": "ipython3",
   "version": "3.10.5"
  }
 },
 "nbformat": 4,
 "nbformat_minor": 5
}

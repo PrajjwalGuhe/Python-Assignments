{
 "cells": [
  {
   "cell_type": "markdown",
   "id": "6f012f66",
   "metadata": {},
   "source": [
    "# Assignment Solutions -09"
   ]
  },
  {
   "cell_type": "markdown",
   "id": "5a4bcafc",
   "metadata": {},
   "source": [
    "### 1. What is a lambda function in Python, and how does it differ from a regular function?"
   ]
  },
  {
   "cell_type": "markdown",
   "id": "d6dcdc2c",
   "metadata": {},
   "source": [
    "**Ans:** In Python, a `lambda function` is an anonymous function that is defined without a name. \n",
    "\n",
    "It differs from a regular function by its conciseness, single expression and no function name."
   ]
  },
  {
   "cell_type": "markdown",
   "id": "9cb00f54",
   "metadata": {},
   "source": [
    "### 2. Can a lambda function in Python have multiple arguments? If yes, how can you define and use them?\n"
   ]
  },
  {
   "cell_type": "markdown",
   "id": "71c23a6f",
   "metadata": {},
   "source": [
    "**Ans:** Yes, a `lambda function` in Python can have multiple arguments. \n",
    "\n",
    "We can define and use multiple arguments in a lambda function by separating them with commas, similar to how we define multiple parameters in a regular function."
   ]
  },
  {
   "cell_type": "code",
   "execution_count": 1,
   "id": "57089cb3",
   "metadata": {},
   "outputs": [
    {
     "name": "stdout",
     "output_type": "stream",
     "text": [
      "7\n"
     ]
    }
   ],
   "source": [
    "# Example :\n",
    "sum = lambda x, y: x + y\n",
    "print(sum(3, 4))\n"
   ]
  },
  {
   "cell_type": "markdown",
   "id": "49a818a2",
   "metadata": {},
   "source": [
    "### 3. How are lambda functions typically used in Python? Provide an example use case."
   ]
  },
  {
   "cell_type": "markdown",
   "id": "6f27b9e1",
   "metadata": {},
   "source": [
    "**Ans:** Lambda functions in Python are commonly used in situations where a small, anonymous function is required for a specific task and defining a regular named function would be unnecessary. "
   ]
  },
  {
   "cell_type": "code",
   "execution_count": 3,
   "id": "c74076b3",
   "metadata": {},
   "outputs": [
    {
     "name": "stdout",
     "output_type": "stream",
     "text": [
      "[{'name': 'Anup', 'marks': 79}, {'name': 'Alisa', 'marks': 85}, {'name': 'Aditya', 'marks': 88}, {'name': 'Arpita', 'marks': 92}]\n"
     ]
    }
   ],
   "source": [
    "# Example : \n",
    "\n",
    "students = [    \n",
    "{\"name\": \"Alisa\", \"marks\": 85},    \n",
    "{\"name\": \"Arpita\", \"marks\": 92},    \n",
    "{\"name\": \"Aditya\", \"marks\": 88},    \n",
    "{\"name\": \"Anup\", \"marks\": 79}\n",
    "]\n",
    "\n",
    "# Sort the list of students by their marks\n",
    "sorted_students = sorted(students, key=lambda student: student[\"marks\"])\n",
    "print(sorted_students)"
   ]
  },
  {
   "cell_type": "markdown",
   "id": "11dd4d9b",
   "metadata": {},
   "source": [
    "### 4. What are the advantages and limitations of lambda functions compared to regular functions in Python?"
   ]
  },
  {
   "cell_type": "markdown",
   "id": "c6524170",
   "metadata": {},
   "source": [
    "**Ans:** \n",
    "* The `advantages` of lambda functions include conciseness in coding, not requiring a formal name and enabling functional programming.\n",
    "* The `limitations` of lambda functions include limited readability due to single line expression and debugging problems due to lack of a formal name. "
   ]
  },
  {
   "cell_type": "markdown",
   "id": "1952107a",
   "metadata": {},
   "source": [
    "### 5. Are lambda functions in Python able to access variables defined outside of their own scope? Explain with an example."
   ]
  },
  {
   "cell_type": "markdown",
   "id": "d5f5cb08",
   "metadata": {},
   "source": [
    "**Ans:** Yes, lambda functions in Python are able to access variables defined outside of their own scope. This concept is known as \"lexical scoping\" or \"closure.\" When a lambda function is defined, it retains access to variables in the surrounding scope where it was created, even if that scope is no longer active."
   ]
  },
  {
   "cell_type": "code",
   "execution_count": 13,
   "id": "fd929418",
   "metadata": {},
   "outputs": [
    {
     "name": "stdout",
     "output_type": "stream",
     "text": [
      "15\n"
     ]
    }
   ],
   "source": [
    "# Examples : \n",
    "\n",
    "def f():\n",
    "    x = 10\n",
    "    return lambda y: x + y \n",
    "\n",
    "my_lambda = f()\n",
    "result = my_lambda(5)\n",
    "print(result)"
   ]
  },
  {
   "cell_type": "markdown",
   "id": "d6c32ff4",
   "metadata": {},
   "source": [
    "### 6. Write a lambda function to calculate the square of a given number."
   ]
  },
  {
   "cell_type": "markdown",
   "id": "0c701064",
   "metadata": {},
   "source": [
    "**Ans:** A lambda function to calculate the square of a given number is as follows:"
   ]
  },
  {
   "cell_type": "code",
   "execution_count": 14,
   "id": "f014dd33",
   "metadata": {},
   "outputs": [
    {
     "data": {
      "text/plain": [
       "25"
      ]
     },
     "execution_count": 14,
     "metadata": {},
     "output_type": "execute_result"
    }
   ],
   "source": [
    "square = lambda x: x ** 2\n",
    "square(5)"
   ]
  },
  {
   "cell_type": "markdown",
   "id": "73768bb2",
   "metadata": {},
   "source": [
    "### 7. Create a lambda function to find the maximum value in a list of integers."
   ]
  },
  {
   "cell_type": "markdown",
   "id": "d2e9c97e",
   "metadata": {},
   "source": [
    "**Ans:** A lambda function to calculate the maximum value in a list of integers is as follows: "
   ]
  },
  {
   "cell_type": "code",
   "execution_count": 15,
   "id": "dbbd570e",
   "metadata": {},
   "outputs": [
    {
     "data": {
      "text/plain": [
       "15"
      ]
     },
     "execution_count": 15,
     "metadata": {},
     "output_type": "execute_result"
    }
   ],
   "source": [
    "n = [5, 10, 3, 8, 15, 1]\n",
    "maximum = lambda n: max(n)\n",
    "maximum(n)"
   ]
  },
  {
   "cell_type": "markdown",
   "id": "2ace3994",
   "metadata": {},
   "source": [
    "### 8. Implement a lambda function to filter out all the even numbers from a list of integers."
   ]
  },
  {
   "cell_type": "markdown",
   "id": "20ad0557",
   "metadata": {},
   "source": [
    "**Ans:** A lambda function to filter out all the even numbers from a list of integers is as follows:"
   ]
  },
  {
   "cell_type": "code",
   "execution_count": 16,
   "id": "a792a28f",
   "metadata": {},
   "outputs": [
    {
     "name": "stdout",
     "output_type": "stream",
     "text": [
      "[2, 4, 6, 8, 10]\n"
     ]
    }
   ],
   "source": [
    "n = [1, 2, 3, 4, 5, 6, 7, 8, 9, 10]\n",
    "even = list(filter(lambda x: x % 2 == 0, n))\n",
    "print(even)"
   ]
  },
  {
   "cell_type": "markdown",
   "id": "80844e93",
   "metadata": {},
   "source": [
    "### 9. Write a lambda function to sort a list of strings in ascending order based on the length of each string."
   ]
  },
  {
   "cell_type": "markdown",
   "id": "0911a6f4",
   "metadata": {},
   "source": [
    "**Ans:** A lambda function to sort a list of strings in ascending order based on the length of each string is as follows:"
   ]
  },
  {
   "cell_type": "code",
   "execution_count": 17,
   "id": "1ae6e8ef",
   "metadata": {},
   "outputs": [
    {
     "name": "stdout",
     "output_type": "stream",
     "text": [
      "['pear', 'apple', 'banana', 'cherry', 'pineapple']\n"
     ]
    }
   ],
   "source": [
    "strings = [\"apple\", \"banana\", \"cherry\", \"pear\", \"pineapple\"]\n",
    "sorted_strings = sorted(strings, key=lambda s: len(s))\n",
    "print(sorted_strings)"
   ]
  },
  {
   "cell_type": "markdown",
   "id": "f168c9d6",
   "metadata": {},
   "source": [
    "### 10. Create a lambda function that takes two lists as input and returns a new list containing the common elements between the two lists."
   ]
  },
  {
   "cell_type": "markdown",
   "id": "d664c4d5",
   "metadata": {},
   "source": [
    "**Ans:** A lambda function that takes two lists as input and returns a new list containing the common elements between the two lists is as follows: "
   ]
  },
  {
   "cell_type": "code",
   "execution_count": 19,
   "id": "af32a121",
   "metadata": {},
   "outputs": [
    {
     "name": "stdout",
     "output_type": "stream",
     "text": [
      "[14, 65]\n"
     ]
    }
   ],
   "source": [
    "list1 = [1, 29, 13, 14, 65]\n",
    "list2 = [14, 65, 6, 73, 88]\n",
    "common = lambda a, b: list(filter(lambda x: x in b, a))\n",
    "result = common(list1, list2)\n",
    "print(result)"
   ]
  },
  {
   "cell_type": "markdown",
   "id": "afc5b8ed",
   "metadata": {},
   "source": [
    "### 11. Write a recursive function to calculate the factorial of a given positive integer."
   ]
  },
  {
   "cell_type": "markdown",
   "id": "4909f32c",
   "metadata": {},
   "source": [
    "**Ans:** A recursive function to calculate the factorial of a given positive integer is as follows:"
   ]
  },
  {
   "cell_type": "code",
   "execution_count": 22,
   "id": "eed066b6",
   "metadata": {},
   "outputs": [
    {
     "data": {
      "text/plain": [
       "120"
      ]
     },
     "execution_count": 22,
     "metadata": {},
     "output_type": "execute_result"
    }
   ],
   "source": [
    "def factorial(n):\n",
    "    if n == 1:\n",
    "        return 1\n",
    "    elif n <= 0:\n",
    "        return \"Enter a positive integer.\"\n",
    "    else:\n",
    "        return n * factorial(n-1)\n",
    "\n",
    "factorial(5)\n"
   ]
  },
  {
   "cell_type": "markdown",
   "id": "cdb144db",
   "metadata": {},
   "source": [
    "### 12. Implement a recursive function to compute the nth Fibonacci number."
   ]
  },
  {
   "cell_type": "markdown",
   "id": "a0dcf50a",
   "metadata": {},
   "source": [
    "**Ans:** A recursive function to compute the nth Fibonacci number is as follows:"
   ]
  },
  {
   "cell_type": "code",
   "execution_count": 24,
   "id": "f825875f",
   "metadata": {},
   "outputs": [
    {
     "data": {
      "text/plain": [
       "144"
      ]
     },
     "execution_count": 24,
     "metadata": {},
     "output_type": "execute_result"
    }
   ],
   "source": [
    "def fibonacci(n):\n",
    "    if n <= 0:\n",
    "        return \"Enter a positive integer.\"\n",
    "    elif n == 1:\n",
    "        return 0\n",
    "    elif n == 2:\n",
    "        return 1\n",
    "    else:\n",
    "        return fibonacci(n-1) + fibonacci(n-2)\n",
    "    \n",
    "fibonacci(13)"
   ]
  },
  {
   "cell_type": "markdown",
   "id": "96e1965b",
   "metadata": {},
   "source": [
    "### 13. Create a recursive function to find the sum of all the elements in a given list."
   ]
  },
  {
   "cell_type": "markdown",
   "id": "7ebbe1ab",
   "metadata": {},
   "source": [
    "**Ans:** A recursive function to find the sum of all the elements in a given list is as follows:"
   ]
  },
  {
   "cell_type": "code",
   "execution_count": 25,
   "id": "9b4ae63a",
   "metadata": {},
   "outputs": [
    {
     "data": {
      "text/plain": [
       "6"
      ]
     },
     "execution_count": 25,
     "metadata": {},
     "output_type": "execute_result"
    }
   ],
   "source": [
    "def list_sum(n):\n",
    "    if not n:\n",
    "        return 0\n",
    "    else:\n",
    "        return n[0] + list_sum(n[1:])\n",
    "    \n",
    "list_sum([1, 2, 3])"
   ]
  },
  {
   "cell_type": "markdown",
   "id": "3e38c8d5",
   "metadata": {},
   "source": [
    "### 14. Write a recursive function to determine whether a given string is a palindrome."
   ]
  },
  {
   "cell_type": "markdown",
   "id": "d0e32d6c",
   "metadata": {},
   "source": [
    "**Ans:** A recursive function to determine whether a given string is a palindrome is as follows:"
   ]
  },
  {
   "cell_type": "code",
   "execution_count": 28,
   "id": "3de44216",
   "metadata": {},
   "outputs": [
    {
     "data": {
      "text/plain": [
       "True"
      ]
     },
     "execution_count": 28,
     "metadata": {},
     "output_type": "execute_result"
    }
   ],
   "source": [
    "def is_palindrome(n):\n",
    "    \n",
    "    if len(n) <= 1:\n",
    "        return True\n",
    "    elif n[0] != n[-1]:\n",
    "        return False\n",
    "    else:\n",
    "        return is_palindrome(n[1 : -1])\n",
    "\n",
    "is_palindrome('one')\n",
    "is_palindrome('mom')\n"
   ]
  },
  {
   "cell_type": "markdown",
   "id": "37f1b022",
   "metadata": {},
   "source": [
    "### 15. Implement a recursive function to find the greatest common divisor (GCD) of two positive integers."
   ]
  },
  {
   "cell_type": "markdown",
   "id": "083f7867",
   "metadata": {},
   "source": [
    "**Ans:** A recursive function to find the greatest common divisor (GCD) of two positive integers is as follows: "
   ]
  },
  {
   "cell_type": "code",
   "execution_count": 30,
   "id": "9239bbb7",
   "metadata": {},
   "outputs": [
    {
     "data": {
      "text/plain": [
       "2"
      ]
     },
     "execution_count": 30,
     "metadata": {},
     "output_type": "execute_result"
    }
   ],
   "source": [
    "def gcd(a, b):   \n",
    "    \n",
    "    if b == 0:        \n",
    "        return a    \n",
    "    else:        \n",
    "        return gcd(b, a % b)\n",
    "\n",
    "gcd(2, 4)"
   ]
  }
 ],
 "metadata": {
  "kernelspec": {
   "display_name": "Python 3 (ipykernel)",
   "language": "python",
   "name": "python3"
  },
  "language_info": {
   "codemirror_mode": {
    "name": "ipython",
    "version": 3
   },
   "file_extension": ".py",
   "mimetype": "text/x-python",
   "name": "python",
   "nbconvert_exporter": "python",
   "pygments_lexer": "ipython3",
   "version": "3.10.5"
  }
 },
 "nbformat": 4,
 "nbformat_minor": 5
}

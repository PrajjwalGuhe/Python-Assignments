{
 "cells": [
  {
   "cell_type": "markdown",
   "id": "7654f7ee",
   "metadata": {},
   "source": [
    "# Assignmemt Solutions -10"
   ]
  },
  {
   "cell_type": "markdown",
   "id": "2c173ae9",
   "metadata": {},
   "source": [
    "### 1. What is the role of try and exception block?"
   ]
  },
  {
   "cell_type": "markdown",
   "id": "28ad14ec",
   "metadata": {},
   "source": [
    "**Ans** The role of try and exception block is to handle exceptions or errors that may occur during the execution of code. The main roles of try-except block are catching and handling exceptions, preventing program termination, providing alternative behavior and error reporting."
   ]
  },
  {
   "cell_type": "markdown",
   "id": "1a19de82",
   "metadata": {},
   "source": [
    "### 2. What is the syntax for a basic try-except block?"
   ]
  },
  {
   "cell_type": "markdown",
   "id": "5feada11",
   "metadata": {},
   "source": [
    "**Ans:** The syntax for a basic try-except block is as follows: "
   ]
  },
  {
   "cell_type": "code",
   "execution_count": 2,
   "id": "adad04d3",
   "metadata": {},
   "outputs": [],
   "source": [
    "try:\n",
    "     # Code that might raise an exception\n",
    "except ExceptionType:\n",
    "     # Code to handle the exception\n"
   ]
  },
  {
   "cell_type": "markdown",
   "id": "d6336674",
   "metadata": {},
   "source": [
    "### 3. What happens if an exception occurs inside a try block and there is no matching except block?"
   ]
  },
  {
   "cell_type": "markdown",
   "id": "4aeb9cf2",
   "metadata": {},
   "source": [
    "**Ans:** If an exception occurs inside a try block and there is no matching except block then the code will throw an error."
   ]
  },
  {
   "cell_type": "markdown",
   "id": "7bf1e7e0",
   "metadata": {},
   "source": [
    "### 4. What is the difference between using a bare except block and specifying a specific exception type?"
   ]
  },
  {
   "cell_type": "markdown",
   "id": "530b63dc",
   "metadata": {},
   "source": [
    "**Ans:** \n",
    "* The `bare except` block catches all exceptions, regardless of their type. It can be useful in certain situations where we want to handle any exception in a generic way or provide a fallback mechanism for any unexpected errors.\n",
    "* `Specific exception` type involves specifying the particular exception type that we want to handle within the except block. This way we can have a more fine-grained control over exception handling.\n"
   ]
  },
  {
   "cell_type": "markdown",
   "id": "1e35beca",
   "metadata": {},
   "source": [
    "### 5. Can you have nested try-except blocks in Python? If yes, then give an example."
   ]
  },
  {
   "cell_type": "markdown",
   "id": "4bb39a51",
   "metadata": {},
   "source": [
    "**Ans:** Yes, it is possible to have nested try-except blocks in Python. This means that we can place one try-except block inside another try or except block."
   ]
  },
  {
   "cell_type": "code",
   "execution_count": 3,
   "id": "ff932883",
   "metadata": {},
   "outputs": [
    {
     "name": "stdout",
     "output_type": "stream",
     "text": [
      "Outer exception caught: Cannot divide by zero.\n",
      "Inner exception caught: Cannot convert 'abc' to an integer.\n"
     ]
    }
   ],
   "source": [
    "try:\n",
    "    # Outer try block\n",
    "    outer_var = 10 / 0 \t# This will raise a ZeroDivisionError\n",
    "except ZeroDivisionError:\n",
    "    print(\"Outer exception caught: Cannot divide by zero.\")\n",
    "    try:\n",
    "        # Inner try block\n",
    "        inner_var = int(\"abc\")\t\t# This will raise a ValueError\n",
    "    except ValueError:\n",
    "        print(\"Inner exception caught: Cannot convert 'abc' to an integer.\")\n"
   ]
  },
  {
   "cell_type": "markdown",
   "id": "6cefcf9d",
   "metadata": {},
   "source": [
    "### 6. Can we use multiple exception blocks, if yes then give an example."
   ]
  },
  {
   "cell_type": "markdown",
   "id": "971d1a27",
   "metadata": {},
   "source": [
    "**Ans:** Yes, we can use multiple except blocks to handle multiple exception types in Python. This allows you to specify different handling logic for different types of exceptions that may occur. Each except block is associated with a specific exception type, and the code within that block is executed when an exception of that type is raised"
   ]
  },
  {
   "cell_type": "code",
   "execution_count": 5,
   "id": "e917cba2",
   "metadata": {},
   "outputs": [
    {
     "name": "stdout",
     "output_type": "stream",
     "text": [
      "Enter a number: 0\n",
      "Cannot divide by zero.\n"
     ]
    }
   ],
   "source": [
    "try:\n",
    "    # Code that may raise exceptions\n",
    "    num = int(input(\"Enter a number: \"))\n",
    "    result = 100 / num\n",
    "    print(\"Result:\", result)\n",
    "except ValueError:\n",
    "    print(\"Invalid input. Please enter a valid integer.\")\n",
    "except ZeroDivisionError:\n",
    "    print(\"Cannot divide by zero.\")\n",
    "except Exception as e:\n",
    "    print(\"An error occurred:\", str(e))\n"
   ]
  },
  {
   "cell_type": "markdown",
   "id": "1ff3194b",
   "metadata": {},
   "source": [
    "### 7. Write the reason due to which following errors are raised:\n",
    "1. EOFError\n",
    "2. FloatingPointError\n",
    "3. IndexError\n",
    "4. MemoryError\n",
    "4. OverflowError\n",
    "5. TabError\n",
    "6. ValueError"
   ]
  },
  {
   "cell_type": "markdown",
   "id": "d9c261d7",
   "metadata": {},
   "source": [
    "**Ans:**\n",
    "\n",
    "a.\t`EOFError` : This error is raised when an input operation reaches the end of a file (EOF) before it is expected to.\n",
    "\n",
    "b.\t`FloatingPointError` : This error is raised when a floating-point operation encounters an exceptional condition that cannot be handled, such as division by zero or an invalid mathematical operation.\n",
    "\n",
    "c.\t`IndexError` : This error is raised when attempting to access an index that is outside the range of valid indices for a list.\n",
    "\n",
    "d.\t`MemoryError` : This error is raised when an operation fails due to insufficient memory available for allocation.\n",
    "\n",
    "e.\t`OverflowError` : This error is raised when performing arithmetic operations that result in a value too large to be represented by the given data type.\n",
    "\n",
    "f.\t`TabError` : This error is raised when incorrect use of tabs and spaces is encountered in indentation.\n",
    "\n",
    "g.\t`ValueError` : This error is raised when a function receives an argument of the correct type but an inappropriate value.\n"
   ]
  },
  {
   "cell_type": "markdown",
   "id": "3e2dbd1e",
   "metadata": {},
   "source": [
    "### 8. Write code for the following given scenario and add try-exception block to it.\n",
    "\n",
    "1. Program to divide two numbers\n",
    "2. Program to convert a string to an integer\n",
    "3. Program to access an element in a list\n",
    "4. Program to handle a specific exception\n",
    "5. Program to handle any exception"
   ]
  },
  {
   "cell_type": "code",
   "execution_count": 9,
   "id": "ee2bd344",
   "metadata": {},
   "outputs": [
    {
     "name": "stdout",
     "output_type": "stream",
     "text": [
      "Enter number 1: 0\n",
      "Enter number 2: 0\n",
      "Denominator (number 2) can’t be zero.\n"
     ]
    }
   ],
   "source": [
    "# a. Program to divide two numbers \n",
    "\n",
    "try:\n",
    "        num1 = int(input(\"Enter number 1: \"))\n",
    "        num2 = int(input(\"Enter number 2: \"))\n",
    "        print(\"Result: \", num1 / num2)\n",
    "except ZeroDivisionError:\n",
    "        print(\"Denominator (number 2) can’t be zero.\")"
   ]
  },
  {
   "cell_type": "code",
   "execution_count": 11,
   "id": "c740e690",
   "metadata": {},
   "outputs": [
    {
     "name": "stdout",
     "output_type": "stream",
     "text": [
      "The string does not contain a number.\n"
     ]
    }
   ],
   "source": [
    "# b.  Program to convert a string to an integer  \n",
    "try:\n",
    "        str = \"55S\"\n",
    "        converted_str = int(str)\n",
    "        print(type(converted_str))\n",
    "except ValueError:\n",
    "        print(\"The string does not contain a number.\")\n"
   ]
  },
  {
   "cell_type": "code",
   "execution_count": 13,
   "id": "9489125d",
   "metadata": {},
   "outputs": [
    {
     "name": "stdout",
     "output_type": "stream",
     "text": [
      "Given index is not in the list.\n"
     ]
    }
   ],
   "source": [
    "# c. Program to access an element in a list \n",
    "try:\n",
    "        list = [0, \"iNeuron\", 4.5, True]\n",
    "        print(list[7])\n",
    "except IndexError:\n",
    "        print(\"Given index is not in the list.\")"
   ]
  },
  {
   "cell_type": "code",
   "execution_count": 14,
   "id": "0449be97",
   "metadata": {},
   "outputs": [
    {
     "name": "stdout",
     "output_type": "stream",
     "text": [
      "Enter your age: 23\n",
      "Access granted\n"
     ]
    }
   ],
   "source": [
    "# d.  Program to handle a specific exception \n",
    "def check_age(age):\n",
    "        if age < 0:\n",
    "            raise ValueError(\"Age cannot be negative\")\n",
    "        elif age < 18:\n",
    "            raise ValueError(\"You must be at least 18 years old\")\n",
    "try:\n",
    "        age = int(input(\"Enter your age: \"))\n",
    "        check_age(age)\n",
    "        print(\"Access granted\")\n",
    "except ValueError as e:\n",
    "        print(\"Error:\", str(e))\n"
   ]
  },
  {
   "cell_type": "code",
   "execution_count": 15,
   "id": "fb01d0a9",
   "metadata": {},
   "outputs": [
    {
     "name": "stdout",
     "output_type": "stream",
     "text": [
      "Enter the first number: 55\n",
      "Enter the second number: 65\n",
      "Result: 0.8461538461538461\n"
     ]
    }
   ],
   "source": [
    "# e. Program to handle any exception  \n",
    "try:\n",
    "        num1 = int(input(\"Enter the first number: \"))\n",
    "        num2 = int(input(\"Enter the second number: \"))\n",
    "        result = num1 / num2\n",
    "        print(\"Result:\", result)\n",
    "except Exception as e:\n",
    "        print(\"An error occurred:\", str(e))"
   ]
  }
 ],
 "metadata": {
  "kernelspec": {
   "display_name": "Python 3 (ipykernel)",
   "language": "python",
   "name": "python3"
  },
  "language_info": {
   "codemirror_mode": {
    "name": "ipython",
    "version": 3
   },
   "file_extension": ".py",
   "mimetype": "text/x-python",
   "name": "python",
   "nbconvert_exporter": "python",
   "pygments_lexer": "ipython3",
   "version": "3.10.5"
  }
 },
 "nbformat": 4,
 "nbformat_minor": 5
}

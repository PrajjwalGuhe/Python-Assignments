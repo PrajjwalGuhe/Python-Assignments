{
 "cells": [
  {
   "cell_type": "markdown",
   "id": "9d715165",
   "metadata": {},
   "source": [
    "# Assignment 02 Solutions\n"
   ]
  },
  {
   "cell_type": "markdown",
   "id": "1c8da6be",
   "metadata": {},
   "source": [
    "### 1.What are the two values of the Boolean data type? How do you write them?"
   ]
  },
  {
   "cell_type": "markdown",
   "id": "9e38fcbd",
   "metadata": {},
   "source": [
    "***Ans:*** The two boolean datatype values are `True` and `False`. While writing them the first letter of both the values should be capital that is `T` and `F` in `True` and `False`."
   ]
  },
  {
   "cell_type": "code",
   "execution_count": 4,
   "id": "658e77e3",
   "metadata": {},
   "outputs": [
    {
     "ename": "NameError",
     "evalue": "name 'true' is not defined",
     "output_type": "error",
     "traceback": [
      "\u001b[1;31m---------------------------------------------------------------------------\u001b[0m",
      "\u001b[1;31mNameError\u001b[0m                                 Traceback (most recent call last)",
      "Input \u001b[1;32mIn [4]\u001b[0m, in \u001b[0;36m<cell line: 3>\u001b[1;34m()\u001b[0m\n\u001b[0;32m      1\u001b[0m \u001b[38;5;66;03m# Example :\u001b[39;00m\n\u001b[0;32m      2\u001b[0m \u001b[38;5;66;03m# incorrect syntax\u001b[39;00m\n\u001b[1;32m----> 3\u001b[0m A \u001b[38;5;241m=\u001b[39m \u001b[43mtrue\u001b[49m \n\u001b[0;32m      4\u001b[0m B \u001b[38;5;241m=\u001b[39m false\n\u001b[0;32m      6\u001b[0m \u001b[38;5;28mprint\u001b[39m(\u001b[38;5;28mtype\u001b[39m(A))\n",
      "\u001b[1;31mNameError\u001b[0m: name 'true' is not defined"
     ]
    }
   ],
   "source": [
    "# Example :\n",
    "# incorrect syntax\n",
    "A = true \n",
    "B = false\n",
    "\n",
    "print(type(A))\n",
    "print(type(B))\n",
    "# Throws NameError"
   ]
  },
  {
   "cell_type": "code",
   "execution_count": 3,
   "id": "b2e35a03",
   "metadata": {},
   "outputs": [
    {
     "name": "stdout",
     "output_type": "stream",
     "text": [
      "<class 'bool'>\n",
      "<class 'bool'>\n"
     ]
    }
   ],
   "source": [
    "# correct syntax\n",
    "a = True  \n",
    "b = False\n",
    "\n",
    "print(type(a))\n",
    "print(type(b))"
   ]
  },
  {
   "cell_type": "markdown",
   "id": "8dc727d9",
   "metadata": {},
   "source": [
    "### 2. What are the three different types of Boolean operators?"
   ]
  },
  {
   "cell_type": "markdown",
   "id": "57682d4a",
   "metadata": {},
   "source": [
    "***Ans:*** The three differnt types of Boolean operators in python are: `or`,`and`,`not`"
   ]
  },
  {
   "cell_type": "code",
   "execution_count": 5,
   "id": "367531e7",
   "metadata": {},
   "outputs": [
    {
     "name": "stdout",
     "output_type": "stream",
     "text": [
      "True\n",
      "True\n",
      "False\n"
     ]
    }
   ],
   "source": [
    "a=400\n",
    "b=500\n",
    "print(a>350 and b>400) # Example of boolean and\n",
    "print(a>200 or b>100) # Example of boolean or\n",
    "print(not(a>10)) # Example of boolean not"
   ]
  },
  {
   "cell_type": "markdown",
   "id": "dcc08fec",
   "metadata": {},
   "source": [
    "### 3. Make a list of each Boolean operator&#39;s truth tables (i.e. every possible combination of Boolean values for the operator and what it evaluate )."
   ]
  },
  {
   "cell_type": "markdown",
   "id": "3750b9a9",
   "metadata": {},
   "source": [
    "**Ans:** The Truth tables for the boolean tables are as follows:\n",
    "\n",
    "* **Truth Table for `and` operaotor**\n",
    "        True and True is True\n",
    "        True and False is False\n",
    "        False and True is False\n",
    "        False and False is False\n",
    "\n",
    "* **Truth Table for `or` operaotor**\n",
    "        True and True is True\n",
    "        True and False is True\n",
    "        False and True is True\n",
    "        False and False is False\n",
    "\n",
    "* **Truth Table for `not` operaotor**\n",
    "        True not is False False not is True"
   ]
  },
  {
   "cell_type": "markdown",
   "id": "74d00937",
   "metadata": {},
   "source": [
    "### 4. What are the values of the following expressions?\n",
    "\n",
    "*    (5 &gt; 4) and (3 == 5)\n",
    "*    not (5 &gt; 4)\n",
    "*    (5 &gt; 4) or (3 == 5)\n",
    "*    not ((5 &gt; 4) or (3 == 5))\n",
    "*    (True and True) and (True == False)\n",
    "*    (not False) or (not True)"
   ]
  },
  {
   "cell_type": "code",
   "execution_count": 6,
   "id": "a4f8b24d",
   "metadata": {},
   "outputs": [
    {
     "name": "stdout",
     "output_type": "stream",
     "text": [
      "False\n",
      "False\n",
      "True\n",
      "False\n",
      "False\n",
      "True\n"
     ]
    }
   ],
   "source": [
    "# Ans:\n",
    "\n",
    "print((5>4)and(3==5)) # False\n",
    "print(not(5>4)) # False\n",
    "print((5>4)or(3==5)) # True\n",
    "print(not((5>4)or(3==5))) # False\n",
    "print((True and True)and(True==False)) # False\n",
    "print((not False)or(not True)) # True"
   ]
  },
  {
   "cell_type": "markdown",
   "id": "e0545000",
   "metadata": {},
   "source": [
    "### 5. What are the six comparison operators?"
   ]
  },
  {
   "cell_type": "markdown",
   "id": "3f39ad08",
   "metadata": {},
   "source": [
    "**Ans:** Following are the Six Comparison operators used in Python : \n",
    "\n",
    "`==`,`<`,`>`,`!=`,`<=`,`=>`"
   ]
  },
  {
   "cell_type": "markdown",
   "id": "da85fcad",
   "metadata": {},
   "source": [
    "### 6. How do you tell the difference between the equal to and assignment operators?Describe a condition and when you would use one ?"
   ]
  },
  {
   "cell_type": "markdown",
   "id": "ede3a7e7",
   "metadata": {},
   "source": [
    "**Ans:** `==` is the equal to operator that compares two values and evaluates to a Boolean, while `=` is that assignment operator that stores a value in a variable."
   ]
  },
  {
   "cell_type": "code",
   "execution_count": 4,
   "id": "a21e1cd9",
   "metadata": {},
   "outputs": [
    {
     "name": "stdout",
     "output_type": "stream",
     "text": [
      "True\n"
     ]
    }
   ],
   "source": [
    "# Example :\n",
    "\n",
    "count = 100        # Assigned the variable with value by `=` operator\n",
    "\n",
    "if count == 100:   # checking if the value in the variable is same by `==` operator\n",
    "    print(count==100)"
   ]
  },
  {
   "cell_type": "markdown",
   "id": "0ec8bc37",
   "metadata": {},
   "source": [
    "### 7. Identify the three blocks in this code:\n",
    "\n",
    "\n",
    "spam = 0\n",
    "\n",
    "if spam == 10:\n",
    "\n",
    "print('eggs')\n",
    "\n",
    "if spam > 5:\n",
    "\n",
    "print('bacon')\n",
    "\n",
    "else:\n",
    "\n",
    "print('ham')\n",
    "\n",
    "print('spam')\n",
    "\n",
    "print('spam')"
   ]
  },
  {
   "cell_type": "markdown",
   "id": "75f7a88c",
   "metadata": {},
   "source": [
    "**Ans:** In Python, code block refers to a collection of code that is in the same block or indent. This is most commonly found in classes, functions, and loops."
   ]
  },
  {
   "cell_type": "code",
   "execution_count": 5,
   "id": "74ceb6cf",
   "metadata": {},
   "outputs": [
    {
     "name": "stdout",
     "output_type": "stream",
     "text": [
      "ham\n",
      "spam\n",
      "spam\n"
     ]
    }
   ],
   "source": [
    "spam = 0\n",
    "\n",
    "if spam == 10:\n",
    "    print('eggs')  # Block 1\n",
    "if spam > 5:\n",
    "    print('bacon') # Block 2\n",
    "else:\n",
    "    print('ham')   # Block 3\n",
    "print('spam')\n",
    "print('spam')"
   ]
  },
  {
   "cell_type": "markdown",
   "id": "7f70871d",
   "metadata": {},
   "source": [
    "### 8. Write code that prints Hello if 1 is stored in spam, prints Howdy if 2 is stored in spam, and prints Greetings! if anything else is stored in spam."
   ]
  },
  {
   "cell_type": "code",
   "execution_count": 13,
   "id": "a0e8e276",
   "metadata": {},
   "outputs": [
    {
     "name": "stdout",
     "output_type": "stream",
     "text": [
      "Enter Any Number : 4512\n",
      "Greetings!\n"
     ]
    }
   ],
   "source": [
    "# Example 1\n",
    "\n",
    "Spam = int(input(\"Enter Any Number : \"))\n",
    "\n",
    "if Spam == 1:\n",
    "    print(\"Hello\")\n",
    "elif Spam == 2:\n",
    "    print(\"Howdy\")\n",
    "elif Spam != 1 and Spam != 2:\n",
    "    print(\"Greetings!\")"
   ]
  },
  {
   "cell_type": "code",
   "execution_count": 14,
   "id": "19ed12c4",
   "metadata": {},
   "outputs": [
    {
     "name": "stdout",
     "output_type": "stream",
     "text": [
      "Hello\n",
      "Howdy\n",
      "Greetings\n"
     ]
    }
   ],
   "source": [
    "# Example 2\n",
    "\n",
    "def spamCode(spam):\n",
    "    if spam==1:\n",
    "        print('Hello')\n",
    "    elif spam==2:\n",
    "        print('Howdy')\n",
    "    else:\n",
    "        print('Greetings')\n",
    "        \n",
    "spamCode(1) \n",
    "spamCode(2)\n",
    "spamCode(3)"
   ]
  },
  {
   "cell_type": "markdown",
   "id": "b3ab0dbf",
   "metadata": {},
   "source": [
    "### 9.If your programme is stuck in an endless loop, what keys you’ll press?"
   ]
  },
  {
   "cell_type": "markdown",
   "id": "3724c347",
   "metadata": {},
   "source": [
    "**Ans:** If Programme is stuck in an endless loop, Press `Ctrl+C`"
   ]
  },
  {
   "cell_type": "markdown",
   "id": "86ae3292",
   "metadata": {},
   "source": [
    "### 10. How can you tell the difference between break and continue?"
   ]
  },
  {
   "cell_type": "markdown",
   "id": "5cba5fde",
   "metadata": {},
   "source": [
    "**Ans:** The `break` statement will move the execution outside the loop if `break` condtion is satisfied. Whereas the `continue` statement will move the execution to the start of the loop."
   ]
  },
  {
   "cell_type": "markdown",
   "id": "dedf64dc",
   "metadata": {},
   "source": [
    "### 11. In a for loop, what is the difference between range(10), range(0, 10), and range(0, 10, 1)?"
   ]
  },
  {
   "cell_type": "markdown",
   "id": "e4360094",
   "metadata": {},
   "source": [
    "**Ans:** The Differences are as follows:\n",
    "\n",
    "\n",
    "* The `range(10)` call range from _0 to 9 but not include 10_\n",
    "* The `range (0,10)` explicitly tells the loop to _start at 0_\n",
    "* The `range(0,10,1)` explicitly tells the loop to _increase the variable by 1 on each iteration_"
   ]
  },
  {
   "cell_type": "markdown",
   "id": "074e0c29",
   "metadata": {},
   "source": [
    "### 12. Write a short program that prints the numbers 1 to 10 using a for loop. Then write an equivalent program that prints the numbers 1 to 10 using a while loop ?"
   ]
  },
  {
   "cell_type": "markdown",
   "id": "7633a380",
   "metadata": {},
   "source": [
    "**For loop :**"
   ]
  },
  {
   "cell_type": "code",
   "execution_count": 17,
   "id": "583ef201",
   "metadata": {},
   "outputs": [
    {
     "name": "stdout",
     "output_type": "stream",
     "text": [
      "1\n",
      "2\n",
      "3\n",
      "4\n",
      "5\n",
      "6\n",
      "7\n",
      "8\n",
      "9\n",
      "10\n"
     ]
    }
   ],
   "source": [
    "for i in range(1,11):\n",
    "    print(i)"
   ]
  },
  {
   "cell_type": "markdown",
   "id": "a72c70bf",
   "metadata": {},
   "source": [
    "**While loop :**"
   ]
  },
  {
   "cell_type": "code",
   "execution_count": 19,
   "id": "c3ebe2f7",
   "metadata": {},
   "outputs": [
    {
     "name": "stdout",
     "output_type": "stream",
     "text": [
      "1\n",
      "2\n",
      "3\n",
      "4\n",
      "5\n",
      "6\n",
      "7\n",
      "8\n",
      "9\n",
      "10\n"
     ]
    }
   ],
   "source": [
    "i = 1\n",
    "while i<11:\n",
    "    print(i)\n",
    "    i += 1"
   ]
  },
  {
   "cell_type": "markdown",
   "id": "3cc6b896",
   "metadata": {},
   "source": [
    "### 13. If you had a function named bacon() inside a module named spam, how would you call it after importing spam ?"
   ]
  },
  {
   "cell_type": "markdown",
   "id": "0b8e9dd3",
   "metadata": {},
   "source": [
    "**Ans:** This function can be called with `spam.bacon()`"
   ]
  }
 ],
 "metadata": {
  "kernelspec": {
   "display_name": "Python 3 (ipykernel)",
   "language": "python",
   "name": "python3"
  },
  "language_info": {
   "codemirror_mode": {
    "name": "ipython",
    "version": 3
   },
   "file_extension": ".py",
   "mimetype": "text/x-python",
   "name": "python",
   "nbconvert_exporter": "python",
   "pygments_lexer": "ipython3",
   "version": "3.10.5"
  }
 },
 "nbformat": 4,
 "nbformat_minor": 5
}

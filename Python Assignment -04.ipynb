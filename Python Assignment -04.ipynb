{
 "cells": [
  {
   "cell_type": "markdown",
   "id": "b449da7f",
   "metadata": {},
   "source": [
    "# Assignment 04 Solutions"
   ]
  },
  {
   "cell_type": "markdown",
   "id": "b95047d5",
   "metadata": {},
   "source": [
    "### 1.What exactly is `[ ]`?"
   ]
  },
  {
   "cell_type": "markdown",
   "id": "bf3a96b4",
   "metadata": {},
   "source": [
    "**Ans:** The empty list represented by `[]` is a list that contains no items."
   ]
  },
  {
   "cell_type": "markdown",
   "id": "f27bfdd2",
   "metadata": {},
   "source": [
    "### 2.In a list of values stored in a variable called spam, how would you assign the value 'hello' as the third value? (Assume [2, 4, 6, 8, 10] are in spam.)"
   ]
  },
  {
   "cell_type": "code",
   "execution_count": 12,
   "id": "7f5ac343",
   "metadata": {},
   "outputs": [
    {
     "name": "stdout",
     "output_type": "stream",
     "text": [
      "[2, 4, 'hello', 8, 10]\n"
     ]
    }
   ],
   "source": [
    "spam = [2,4,6,8,10]\n",
    "spam[2]=\"hello\"\n",
    "print(spam)"
   ]
  },
  {
   "cell_type": "markdown",
   "id": "59b0f2e1",
   "metadata": {},
   "source": [
    "## *Let's pretend the spam includes the list ['a','b','c',d'] for the next three queries.*"
   ]
  },
  {
   "cell_type": "markdown",
   "id": "16c0f385",
   "metadata": {},
   "source": [
    "### 3. What is the value of spam[int(int('3'*2)//11)] ?"
   ]
  },
  {
   "cell_type": "markdown",
   "id": "5ce9c85c",
   "metadata": {},
   "source": [
    "**Ans:** `'d'`, _Reason_ - `'3'` is a string multiplies by `2` will be `'33'` passed by `int()`, it will be 33 and divide by `11` is `3`. so basically, the output is `spam[3]` which is `'d'`."
   ]
  },
  {
   "cell_type": "code",
   "execution_count": 14,
   "id": "567267bd",
   "metadata": {},
   "outputs": [
    {
     "data": {
      "text/plain": [
       "'d'"
      ]
     },
     "execution_count": 14,
     "metadata": {},
     "output_type": "execute_result"
    }
   ],
   "source": [
    "spam=['a','b','c','d']\n",
    "spam[int(int('3'*2)//11)]"
   ]
  },
  {
   "cell_type": "markdown",
   "id": "f23707af",
   "metadata": {},
   "source": [
    "### 4. What is the value of spam[-1]?"
   ]
  },
  {
   "cell_type": "markdown",
   "id": "bd5307a3",
   "metadata": {},
   "source": [
    "**Ans:** The value will be `d`. As negative indexing is used to in Python to begin slicing from the end of the list. `spam[-1]` is `d`."
   ]
  },
  {
   "cell_type": "code",
   "execution_count": 24,
   "id": "8b74496f",
   "metadata": {},
   "outputs": [
    {
     "data": {
      "text/plain": [
       "'d'"
      ]
     },
     "execution_count": 24,
     "metadata": {},
     "output_type": "execute_result"
    }
   ],
   "source": [
    "spam[-1]\n"
   ]
  },
  {
   "cell_type": "markdown",
   "id": "159b5237",
   "metadata": {},
   "source": [
    "### 5. What is the value of spam[:2]?"
   ]
  },
  {
   "cell_type": "markdown",
   "id": "8e9b89a9",
   "metadata": {},
   "source": [
    "**Ans:**`spam[:2]` returns all elements in the list spam from 0 to 2 excluding 2"
   ]
  },
  {
   "cell_type": "code",
   "execution_count": 30,
   "id": "8f5fd63f",
   "metadata": {},
   "outputs": [
    {
     "data": {
      "text/plain": [
       "['a', 'b']"
      ]
     },
     "execution_count": 30,
     "metadata": {},
     "output_type": "execute_result"
    }
   ],
   "source": [
    "spam[:2]"
   ]
  },
  {
   "cell_type": "markdown",
   "id": "9c2d2360",
   "metadata": {},
   "source": [
    "## *Let's pretend bacon has the list [3.14,'cat',11,'cat',True] for the next three question*"
   ]
  },
  {
   "cell_type": "markdown",
   "id": "d337d506",
   "metadata": {},
   "source": [
    "### 6. What is the value of bacon.index('cat')?"
   ]
  },
  {
   "cell_type": "markdown",
   "id": "ddd9f678",
   "metadata": {},
   "source": [
    "**Ans:** `1`. As the index method returns the index of first occuerence of `'cat'`"
   ]
  },
  {
   "cell_type": "code",
   "execution_count": 42,
   "id": "bd27c9bb",
   "metadata": {},
   "outputs": [
    {
     "name": "stdout",
     "output_type": "stream",
     "text": [
      "[3.14, 'cat', 11, 'cat', True]\n"
     ]
    }
   ],
   "source": [
    "bacon = [3.14,'cat',11,'cat',True]\n",
    "bacon.index('cat')"
   ]
  },
  {
   "cell_type": "markdown",
   "id": "610b2195",
   "metadata": {},
   "source": [
    "### 7. How does bacon.append(99) change the look of the list value in bacon?"
   ]
  },
  {
   "cell_type": "markdown",
   "id": "36cc5963",
   "metadata": {},
   "source": [
    "**Ans:** The `append` method adds new elements to the end of the list"
   ]
  },
  {
   "cell_type": "code",
   "execution_count": 44,
   "id": "26fe8e27",
   "metadata": {},
   "outputs": [
    {
     "name": "stdout",
     "output_type": "stream",
     "text": [
      "[3.14, 'cat', 11, 'cat', True, 99]\n"
     ]
    }
   ],
   "source": [
    "bacon.append(99)  # appends ie adds 99 to existing list\n",
    "print(bacon)"
   ]
  },
  {
   "cell_type": "markdown",
   "id": "419cee7c",
   "metadata": {},
   "source": [
    "### 8. How does bacon.remove('cat') change the look of the list in bacon?"
   ]
  },
  {
   "cell_type": "markdown",
   "id": "052c7930",
   "metadata": {},
   "source": [
    "**Ans:** The `remove` method removes the first occurence of the element in the list"
   ]
  },
  {
   "cell_type": "code",
   "execution_count": 45,
   "id": "14d50953",
   "metadata": {
    "scrolled": true
   },
   "outputs": [
    {
     "name": "stdout",
     "output_type": "stream",
     "text": [
      "[3.14, 11, 'cat', True, 99]\n"
     ]
    }
   ],
   "source": [
    "bacon.remove('cat')  # Removes 'cat' from the list\n",
    "print(bacon)"
   ]
  },
  {
   "cell_type": "markdown",
   "id": "5b8439a1",
   "metadata": {},
   "source": [
    "### 9.what are the list concatenation and list replication operations?"
   ]
  },
  {
   "cell_type": "markdown",
   "id": "f3703ea5",
   "metadata": {},
   "source": [
    "**Ans:** The operator for list concatenation is `+`, while the operator for replication is `*`."
   ]
  },
  {
   "cell_type": "code",
   "execution_count": 48,
   "id": "64919c04",
   "metadata": {},
   "outputs": [
    {
     "name": "stdout",
     "output_type": "stream",
     "text": [
      "['apple', 'banana', 'mango', 'potato', 'tomato', 'onion']\n",
      "['apple', 'banana', 'mango', 'apple', 'banana', 'mango']\n"
     ]
    }
   ],
   "source": [
    "# Example\n",
    "fruits = ['apple','banana','mango']\n",
    "veggies = ['potato','tomato','onion']\n",
    "\n",
    "# List concatetion\n",
    "print(fruits+veggies)\n",
    "\n",
    "# List replication\n",
    "print(fruits*2)"
   ]
  },
  {
   "cell_type": "markdown",
   "id": "677a25ce",
   "metadata": {},
   "source": [
    "### 10.what is the difference between the list method append() and insert()?"
   ]
  },
  {
   "cell_type": "markdown",
   "id": "d86ebd01",
   "metadata": {},
   "source": [
    "**Ans:** While `append()` will add values only to the end of a list, `insert()` can add them anywhere in the list."
   ]
  },
  {
   "cell_type": "code",
   "execution_count": 52,
   "id": "d088dffc",
   "metadata": {},
   "outputs": [
    {
     "name": "stdout",
     "output_type": "stream",
     "text": [
      "['apple', 'banana', 'mango', 'watermelon']\n",
      "['apple', 'banana', 'chiku', 'mango', 'watermelon']\n"
     ]
    }
   ],
   "source": [
    "fruits = ['apple','banana','mango']\n",
    "fruits.append('watermelon')\n",
    "print(fruits)\n",
    "fruits.insert(2,'chiku')\n",
    "print(fruits)"
   ]
  },
  {
   "cell_type": "markdown",
   "id": "1b827b23",
   "metadata": {},
   "source": [
    "### 11. What are the two methods for removing items from a list?"
   ]
  },
  {
   "cell_type": "markdown",
   "id": "9d80099f",
   "metadata": {},
   "source": [
    "**Ans:** The `del` statement and the `remove()` method are two ways to remove values from a list"
   ]
  },
  {
   "cell_type": "markdown",
   "id": "fc2e3a8c",
   "metadata": {},
   "source": [
    "### 12. Describe how list values and string values are identical."
   ]
  },
  {
   "cell_type": "markdown",
   "id": "63a2a0c5",
   "metadata": {},
   "source": [
    "**Ans:**  Both lists and strings can be passed to `len()` function, have `indexes` and `slices`, be used in `for loops`, be `concatenated` or `replicated`, and be used with the in and not in operators."
   ]
  },
  {
   "cell_type": "markdown",
   "id": "2e87addc",
   "metadata": {},
   "source": [
    "### 13. What's the difference between tuples and lists?"
   ]
  },
  {
   "cell_type": "markdown",
   "id": "543f61b0",
   "metadata": {},
   "source": [
    "**Ans:** Lists are `Mutable, Indexable and Slicable`. they can have values `added, removed, or changed`. Tuples are `Immutable but Indexable and Slicable`. the tuple values `cannot be changed` at all. Also, tuples are represented using `parentheses, ()`, while lists use the `square brackets, []`.\n",
    "\n"
   ]
  },
  {
   "cell_type": "markdown",
   "id": "93bf70fc",
   "metadata": {},
   "source": [
    "### 14. How do you type a tuple value that only contains the integer 42?"
   ]
  },
  {
   "cell_type": "markdown",
   "id": "4a51eebf",
   "metadata": {},
   "source": [
    "**Ans:**`(42,)` - The trailing comma is mandatory. otherwise its considered as a int by python Interpreter"
   ]
  },
  {
   "cell_type": "code",
   "execution_count": 57,
   "id": "c9e11ac9",
   "metadata": {},
   "outputs": [
    {
     "name": "stdout",
     "output_type": "stream",
     "text": [
      "<class 'int'>\n",
      "<class 'tuple'>\n"
     ]
    }
   ],
   "source": [
    "tuple1 = (42)\n",
    "print(type(tuple1))   # type is int\n",
    "\n",
    "tuple2 = (42,)\n",
    "print(type(tuple2))   # type is tuple"
   ]
  },
  {
   "cell_type": "markdown",
   "id": "eca5ed5c",
   "metadata": {},
   "source": [
    "### 15. How do you get a list value's tuple form? How do you get a tuple value's list form?"
   ]
  },
  {
   "cell_type": "markdown",
   "id": "89a725fb",
   "metadata": {},
   "source": [
    "**Ans:** The tuple() and list() functions, respectively are used to convert a list to tuple and vice versa"
   ]
  },
  {
   "cell_type": "markdown",
   "id": "afc81338",
   "metadata": {},
   "source": [
    "### 16. Variables that \"contain\" list values are not necessarily lists themselves. Instead, what do they contain?"
   ]
  },
  {
   "cell_type": "markdown",
   "id": "75433b31",
   "metadata": {},
   "source": [
    "**Ans:** They contain references to list values."
   ]
  },
  {
   "cell_type": "markdown",
   "id": "4aed8a0f",
   "metadata": {},
   "source": [
    "### 17. How do you distinguish between copy.copy() and copy.deepcopy()?"
   ]
  },
  {
   "cell_type": "markdown",
   "id": "2a310ada",
   "metadata": {},
   "source": [
    "**Ans:** The `copy.copy()` function will do a `shallow copy` of a list, while the `copy.deepcopy()` function will do a `deep copy` of a list. That is, only `copy.deepcopy()` will duplicate any lists inside the list."
   ]
  }
 ],
 "metadata": {
  "kernelspec": {
   "display_name": "Python 3 (ipykernel)",
   "language": "python",
   "name": "python3"
  },
  "language_info": {
   "codemirror_mode": {
    "name": "ipython",
    "version": 3
   },
   "file_extension": ".py",
   "mimetype": "text/x-python",
   "name": "python",
   "nbconvert_exporter": "python",
   "pygments_lexer": "ipython3",
   "version": "3.10.5"
  }
 },
 "nbformat": 4,
 "nbformat_minor": 5
}

{
 "cells": [
  {
   "cell_type": "markdown",
   "id": "a82e4c3b",
   "metadata": {},
   "source": [
    "# Assignment 03 Solutions"
   ]
  },
  {
   "cell_type": "markdown",
   "id": "2da3bd21",
   "metadata": {},
   "source": [
    "### 1. Why are functions advantageous to have in your programs?"
   ]
  },
  {
   "cell_type": "markdown",
   "id": "55131586",
   "metadata": {},
   "source": [
    "**Ans:** Functions reduce the need for duplicate code. This makes programs shorter, easier to read, and easier to update. The main advantage of functions is code Reusability."
   ]
  },
  {
   "cell_type": "markdown",
   "id": "37c92a89",
   "metadata": {},
   "source": [
    "### 2. When does the code in a function run: when it's specified or when it's called?"
   ]
  },
  {
   "cell_type": "markdown",
   "id": "f36228ea",
   "metadata": {},
   "source": [
    "**Ans:**  The code in a function executes when the function is called, not when the function is specified."
   ]
  },
  {
   "cell_type": "markdown",
   "id": "cc31bb33",
   "metadata": {},
   "source": [
    "### 3. What statement creates a function?"
   ]
  },
  {
   "cell_type": "markdown",
   "id": "8d0643e8",
   "metadata": {},
   "source": [
    "**Ans:** In Python, a function is defined using the `def` keyword :"
   ]
  },
  {
   "cell_type": "code",
   "execution_count": 1,
   "id": "71095e4a",
   "metadata": {},
   "outputs": [
    {
     "name": "stdout",
     "output_type": "stream",
     "text": [
      "Hello Inueron\n"
     ]
    }
   ],
   "source": [
    "# Example : \n",
    "\n",
    "def my_funct():\n",
    "  print(\"Hello Inueron\")\n",
    "\n",
    "my_funct()"
   ]
  },
  {
   "cell_type": "markdown",
   "id": "9fb220f4",
   "metadata": {},
   "source": [
    "### 4. What is the difference between a function and a function call?"
   ]
  },
  {
   "cell_type": "markdown",
   "id": "8fe172a2",
   "metadata": {},
   "source": [
    "**Ans:** A function is procedure to achieve a particular result. while function call is using this function to achive that task. Using a function to do a particular task any point in program is called as function call."
   ]
  },
  {
   "cell_type": "code",
   "execution_count": 2,
   "id": "59cbda13",
   "metadata": {},
   "outputs": [
    {
     "name": "stdout",
     "output_type": "stream",
     "text": [
      "Hello Inueron\n"
     ]
    }
   ],
   "source": [
    "# Example : \n",
    "\n",
    "def my_funct():           # Function\n",
    "  print(\"Hello Inueron\")\n",
    "\n",
    "my_funct()                # Function Call"
   ]
  },
  {
   "cell_type": "markdown",
   "id": "b15d1087",
   "metadata": {},
   "source": [
    "### 5. How many global scopes are there in a Python program? How many local scopes?"
   ]
  },
  {
   "cell_type": "markdown",
   "id": "5419f716",
   "metadata": {},
   "source": [
    "**Ans:** There is one global scope, and a local scope is created whenever a function is called."
   ]
  },
  {
   "cell_type": "markdown",
   "id": "29f890d1",
   "metadata": {},
   "source": [
    "### 6. What happens to variables in a local scope when the function call returns?"
   ]
  },
  {
   "cell_type": "markdown",
   "id": "f2b10043",
   "metadata": {},
   "source": [
    "**Ans:** When a function returns, the local scope is destroyed, and all the variables in it are forgotten."
   ]
  },
  {
   "cell_type": "markdown",
   "id": "3d407373",
   "metadata": {},
   "source": [
    "### 7. What is the concept of a return value? Is it possible to have a return value in an expression?"
   ]
  },
  {
   "cell_type": "markdown",
   "id": "2332df18",
   "metadata": {},
   "source": [
    "**Ans:** A return value is the value that a function call evaluates to. Like any value, a return value can be used as part of an expression."
   ]
  },
  {
   "cell_type": "markdown",
   "id": "265ee474",
   "metadata": {},
   "source": [
    "### 8. If a function does not have a return statement, what is the return value of a call to that function?"
   ]
  },
  {
   "cell_type": "markdown",
   "id": "448fdb51",
   "metadata": {},
   "source": [
    "**Ans:** `None` will be the return value, if there's no return statement for a function\n"
   ]
  },
  {
   "cell_type": "markdown",
   "id": "85cebd3a",
   "metadata": {},
   "source": [
    "### 9. How do you make a function variable refer to the global variable?"
   ]
  },
  {
   "cell_type": "markdown",
   "id": "fa75809b",
   "metadata": {},
   "source": [
    "**Ans:** A global statement will force a variable in a function to refer to the global variable. If you want to refer to a global variable in a function, you can use the `global` keyword to declare which variables are global."
   ]
  },
  {
   "cell_type": "markdown",
   "id": "5a0ded5b",
   "metadata": {},
   "source": [
    "### 10. What is the data type of None?"
   ]
  },
  {
   "cell_type": "markdown",
   "id": "1644b495",
   "metadata": {},
   "source": [
    "**Ans:**  The data type of None is `NoneType`."
   ]
  },
  {
   "cell_type": "markdown",
   "id": "38f1d80c",
   "metadata": {},
   "source": [
    "### 11. What does the sentence import areallyourpetsnamederic do?"
   ]
  },
  {
   "cell_type": "markdown",
   "id": "f5791b5f",
   "metadata": {},
   "source": [
    "**Ans:**  That import statement imports a module named areallyourpetsnamederic."
   ]
  },
  {
   "cell_type": "markdown",
   "id": "8cc05c69",
   "metadata": {},
   "source": [
    "### 12. If you had a bacon() feature in a spam module, what would you call it after importing spam?"
   ]
  },
  {
   "cell_type": "markdown",
   "id": "6d7a785c",
   "metadata": {},
   "source": [
    "**Ans:** This function can be called with `spam.bacon()`."
   ]
  },
  {
   "cell_type": "markdown",
   "id": "99fabe36",
   "metadata": {},
   "source": [
    "### 13. What can you do to save a programme from crashing if it encounters an error?"
   ]
  },
  {
   "cell_type": "markdown",
   "id": "c437765d",
   "metadata": {},
   "source": [
    "**Ans:** Place the line of code that might cause an error in a `try` clause and use `except` block to handle the error."
   ]
  },
  {
   "cell_type": "markdown",
   "id": "d45ae002",
   "metadata": {},
   "source": [
    "### 14. What is the purpose of the try clause? What is the purpose of the except clause?"
   ]
  },
  {
   "cell_type": "markdown",
   "id": "b84f085a",
   "metadata": {},
   "source": [
    "**Ans:** The code that could potentially cause an error goes in the `try` clause. The code that executes if an error happens goes in the `except` clause."
   ]
  }
 ],
 "metadata": {
  "kernelspec": {
   "display_name": "Python 3 (ipykernel)",
   "language": "python",
   "name": "python3"
  },
  "language_info": {
   "codemirror_mode": {
    "name": "ipython",
    "version": 3
   },
   "file_extension": ".py",
   "mimetype": "text/x-python",
   "name": "python",
   "nbconvert_exporter": "python",
   "pygments_lexer": "ipython3",
   "version": "3.10.5"
  }
 },
 "nbformat": 4,
 "nbformat_minor": 5
}

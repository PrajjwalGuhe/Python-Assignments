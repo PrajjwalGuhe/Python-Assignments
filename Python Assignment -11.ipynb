{
 "cells": [
  {
   "cell_type": "markdown",
   "id": "e24069b5",
   "metadata": {},
   "source": [
    "# Assignment Solution -11"
   ]
  },
  {
   "cell_type": "markdown",
   "id": "d76cd9d7",
   "metadata": {},
   "source": [
    "### 1. What is the role of the 'else' block in a try-except statement? Provide an example scenario where it would be useful."
   ]
  },
  {
   "cell_type": "markdown",
   "id": "06c2dee1",
   "metadata": {},
   "source": [
    "**Ans:** The `try` block lets you test a block of code for errors. The `except` block lets you handle the error. The `else` block lets you execute code when there is no error."
   ]
  },
  {
   "cell_type": "code",
   "execution_count": 1,
   "id": "69d5281d",
   "metadata": {},
   "outputs": [
    {
     "name": "stdout",
     "output_type": "stream",
     "text": [
      "Hello\n",
      "Nothing went wrong\n"
     ]
    }
   ],
   "source": [
    "# Example :\n",
    "\n",
    "try:\n",
    "  print(\"Hello\")\n",
    "except:\n",
    "  print(\"Something went wrong\")\n",
    "else:\n",
    "  print(\"Nothing went wrong\")"
   ]
  },
  {
   "cell_type": "markdown",
   "id": "2249c72b",
   "metadata": {},
   "source": [
    "### 2. Can a try-except block be nested inside another try-except block? Explain with an example."
   ]
  },
  {
   "cell_type": "markdown",
   "id": "fb6446c6",
   "metadata": {},
   "source": [
    "**Ans:** yes, we can try except block be nested inside antother try except block."
   ]
  },
  {
   "cell_type": "code",
   "execution_count": 2,
   "id": "bde0b980",
   "metadata": {},
   "outputs": [
    {
     "name": "stdout",
     "output_type": "stream",
     "text": [
      "outer try block\n",
      "nested try block\n",
      "2.0\n"
     ]
    }
   ],
   "source": [
    "# Example : \n",
    "x = 10\n",
    "y = 5\n",
    "\n",
    "try:\n",
    "    print(\"outer try block\")\n",
    "    try:\n",
    "        print(\"nested try block\")\n",
    "        print(x / y)\n",
    "    except TypeError as te:\n",
    "        print(\"nested except block\")\n",
    "        print(te)\n",
    "except ZeroDivisionError as ze:\n",
    "    print(\"outer except block\")\n",
    "    print(ze)\n"
   ]
  },
  {
   "cell_type": "markdown",
   "id": "5b1cad81",
   "metadata": {},
   "source": [
    "### 3. How can you create a custom exception class in Python? Provide an example that demonstrates its usage.\n",
    "\n",
    "**Ans:**"
   ]
  },
  {
   "cell_type": "code",
   "execution_count": 34,
   "id": "3dde351d",
   "metadata": {},
   "outputs": [
    {
     "name": "stdout",
     "output_type": "stream",
     "text": [
      "Enter the Age: 15\n",
      "Exception occured :Invalid Age\n"
     ]
    }
   ],
   "source": [
    "class InvalidAgeException(Exception):\n",
    "    # Raised when the Age  value is less than 18\n",
    "    pass\n",
    "\n",
    "    try:\n",
    "        ValidAge = 18\n",
    "        \n",
    "        Age = int(input(\"Enter the Age: \"))\n",
    "        \n",
    "        if Age < ValidAge:           \n",
    "            raise InvalidAgeException\n",
    "            \n",
    "        else:\n",
    "            print(\"Eligible to Vote\")\n",
    "            \n",
    "    except InvalidAgeException:\n",
    "        print(\"Exception occured :Invalid Age\")"
   ]
  },
  {
   "cell_type": "markdown",
   "id": "4620b2e0",
   "metadata": {},
   "source": [
    "### 4. What are some common exceptions that are built-in to Python?"
   ]
  },
  {
   "cell_type": "markdown",
   "id": "e6169326",
   "metadata": {},
   "source": [
    "**Ans:** Some common error are `ZeroDivisionError`, `TypeError`, `ValueError`, `IndexError`, `KeyError`, `FileNotFoundError`, `IOError`, `ImportError`, `MemoryError`, `OverflowError`, `AttributeError`, `SyntaxError`, `IndentationError`, `NameError`."
   ]
  },
  {
   "cell_type": "markdown",
   "id": "09b278fb",
   "metadata": {},
   "source": [
    "### 5. What is logging in Python, and why is it important in software development?"
   ]
  },
  {
   "cell_type": "markdown",
   "id": "7fea8e04",
   "metadata": {},
   "source": [
    "**Ans:** \n",
    "* `Logging` is a way to store information about your script and track events that occur. When writing any complex script in Python.\n",
    "* `Logging` is essential for debugging software as you develop it. Without logging, finding the source of a problem in your code may be extremely time consuming."
   ]
  },
  {
   "cell_type": "markdown",
   "id": "668747d0",
   "metadata": {},
   "source": [
    "### 6. Explain the purpose of log levels in Python logging and provide examples of when each log level would be appropriate."
   ]
  },
  {
   "cell_type": "markdown",
   "id": "ce25ee48",
   "metadata": {},
   "source": [
    "**Ans:** Log levels relate to the `importance` of the log. \n",
    "\n",
    "For example, an `error` log is a top priority and should be considered more urgent than a `warn` log. A `debug` log is usually only useful when the application is being debugged\n",
    "\n",
    "* `DEBUG`: Detailed information, typically of interest only when diagnosing problems.\n",
    "* `INFO`: Confirmation that things are working as expected.\n",
    "* `WARNING`: An indication that something unexpected happened, or may happen in the future (e.g. ‘disk space low’). The software is still working as expected.\n",
    "* `ERROR`: More serious problem that prevented the software from performing a function.\n",
    "* `CRITICAL`: A very serious error, indicating that the program itself may be unable to continue running\n"
   ]
  },
  {
   "cell_type": "markdown",
   "id": "d4016751",
   "metadata": {},
   "source": [
    "### 7. What are log formatters in Python logging, and how can you customise the log message format using formatters?"
   ]
  },
  {
   "cell_type": "markdown",
   "id": "a1c167b3",
   "metadata": {},
   "source": [
    "**Ans:** Log formatters  are those which are used to customize the log messages\n",
    "We can customize format handler using following code:\n"
   ]
  },
  {
   "cell_type": "code",
   "execution_count": 37,
   "id": "8edef5e0",
   "metadata": {},
   "outputs": [],
   "source": [
    "handler.setFormatter(logging.Formatter('%(asctime)s:%(levelname)s%(message)s'))"
   ]
  },
  {
   "cell_type": "markdown",
   "id": "6d71fb3c",
   "metadata": {},
   "source": [
    "### 8. How can you set up logging to capture log messages from multiple modules or classes in a Python application?\n",
    "\n",
    "**Ans:**"
   ]
  },
  {
   "cell_type": "code",
   "execution_count": 39,
   "id": "b5ecdbda",
   "metadata": {},
   "outputs": [],
   "source": [
    "def main():\n",
    "    import logging.config\n",
    "    logging.config.fileConfig('/path/to/logging.conf')\n",
    "    # your program code\n",
    "\n",
    "if __name__ == '__main__':\n",
    "    main()"
   ]
  },
  {
   "cell_type": "markdown",
   "id": "c137128f",
   "metadata": {},
   "source": [
    "### 9. What is the difference between the logging and print statements in Python? When should you use logging over print statements in a real-world application?"
   ]
  },
  {
   "cell_type": "markdown",
   "id": "5d5f1088",
   "metadata": {},
   "source": [
    "**Ans:** \n",
    "To define basic logging needs, several lines of code are needed. Including additional logging information is not easy. The print() statement only displays messages on the console. Recording logging data inside a file or sending it over the internet needs additional works.\n",
    "\n",
    "One of the biggest advantages of proper logging is that you can categorize messages and turn them on or off depending on what you need. For example, it might be useful to turn on debugging level messages for a certain part of the project, but tone it down for other parts, so as not to be taken over by information overload and to easily concentrate on the task for which you need logging.\n",
    "\n",
    "Also, logs are configurable. You can easily filter them, send them to files, format them, add timestamps, and any other things you might need on a global basis. Print statements are not easily managed\n"
   ]
  },
  {
   "cell_type": "markdown",
   "id": "ebe62e25",
   "metadata": {},
   "source": [
    "### 10. Write a Python program that logs a message to a file named \"app.log\" with the following requirements:\n",
    "* The log message should be \"Hello, World!\"\n",
    "* The log level should be set to \"INFO.\"\n",
    "* The log file should append new log entries without overwriting previous ones."
   ]
  },
  {
   "cell_type": "code",
   "execution_count": 49,
   "id": "6451fe58",
   "metadata": {},
   "outputs": [
    {
     "name": "stderr",
     "output_type": "stream",
     "text": [
      "INFO:root:user Hello,World! welcomes you\n"
     ]
    }
   ],
   "source": [
    "import os\n",
    "import logging\n",
    "\n",
    "dir_path =r'C:\\\\Users\\\\Admin\\\\'\n",
    "\n",
    "log_file = 'app1.log'\n",
    "\n",
    "full_path = os.path.join(dir_path,log_file)\n",
    "\n",
    "os.makedirs(dir_path,exist_ok=True)\n",
    "\n",
    "logger = logging.getLogger()\n",
    "\n",
    "logger.setLevel(logging.INFO)\n",
    "\n",
    "handler = logging.FileHandler(full_path)\n",
    "\n",
    "handler.setFormatter(logging.Formatter('%(asctime)s:%(levelname)s:%(message)s'))\n",
    "\n",
    "logger.addHandler(handler)\n",
    "\n",
    "def LetSeeInfo(info):\n",
    "    logging.info('user %s welcomes you',info)\n",
    "    \n",
    "    \n",
    "LetSeeInfo(\"Hello,World!\")\n",
    "handler.close()\n"
   ]
  },
  {
   "cell_type": "markdown",
   "id": "01b326ef",
   "metadata": {},
   "source": [
    "### 11. Create a Python program that logs an error message to the console and a file named \"errors.log\" if an exception occurs during the program's execution. The error message should include the exception type and a timestamp."
   ]
  },
  {
   "cell_type": "code",
   "execution_count": 50,
   "id": "8964e2a8",
   "metadata": {},
   "outputs": [
    {
     "name": "stderr",
     "output_type": "stream",
     "text": [
      "07/05/2023 12:08:17AM - demologgerINFO: info message\n",
      "INFO:demologger:info message\n",
      "C:\\Users\\Admin\\AppData\\Local\\Temp\\ipykernel_1736\\2702152535.py:13: DeprecationWarning: The 'warn' method is deprecated, use 'warning' instead\n",
      "  logger.warn('warn message')\n",
      "07/05/2023 12:08:17AM - demologgerWARNING: warn message\n",
      "WARNING:demologger:warn message\n",
      "07/05/2023 12:08:17AM - demologgerERROR: error message\n",
      "ERROR:demologger:error message\n",
      "07/05/2023 12:08:17AM - demologgerCRITICAL: critical message\n",
      "CRITICAL:demologger:critical message\n"
     ]
    }
   ],
   "source": [
    "import logging\n",
    "class LoggerDemoConsole:\n",
    "       def testLog(self):\n",
    "            logger = logging.getLogger('demologger')\n",
    "            logger.setLevel(logging.INFO)\n",
    "            consoleHandler = logging.StreamHandler()\n",
    "            consoleHandler.setLevel(logging.INFO)\n",
    "            formatter = logging.Formatter('%(asctime)s - %(name)s%(levelname)s: %(message)s', datefmt='%m/%d/%Y %I:%M:%S%p')\n",
    "            consoleHandler.setFormatter(formatter)\n",
    "            logger.addHandler(consoleHandler)\n",
    "            logger.debug('debug message')\n",
    "            logger.info('info message')\n",
    "            logger.warn('warn message')\n",
    "            logger.error('error message')\n",
    "            logger.critical('critical message')\n",
    "demo = LoggerDemoConsole()\n",
    "demo.testLog()\n"
   ]
  }
 ],
 "metadata": {
  "kernelspec": {
   "display_name": "Python 3 (ipykernel)",
   "language": "python",
   "name": "python3"
  },
  "language_info": {
   "codemirror_mode": {
    "name": "ipython",
    "version": 3
   },
   "file_extension": ".py",
   "mimetype": "text/x-python",
   "name": "python",
   "nbconvert_exporter": "python",
   "pygments_lexer": "ipython3",
   "version": "3.10.5"
  }
 },
 "nbformat": 4,
 "nbformat_minor": 5
}

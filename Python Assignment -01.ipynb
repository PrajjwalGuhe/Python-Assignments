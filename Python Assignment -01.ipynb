{
 "cells": [
  {
   "cell_type": "markdown",
   "id": "0cf51f29",
   "metadata": {},
   "source": [
    "#         Assignment 01 Solutions"
   ]
  },
  {
   "cell_type": "markdown",
   "id": "23575eb7",
   "metadata": {},
   "source": [
    "### 1. In the below elements which of them are values or an expression? eg:- values can be integer or string and expressions will be mathematical operators.\n",
    "\n",
    " \"`*`,`'hello'`, `-87.8`,`-`,`/`,`+`,`6`\"\n",
    " "
   ]
  },
  {
   "cell_type": "markdown",
   "id": "65091cb2",
   "metadata": {},
   "source": [
    "**Ans:**\n",
    "\n",
    "**Values are -** `'hello' `, `-87.8 `, `6`\n",
    "\n",
    "**Expressions are -** `*` ,`-` ,` /` , `+`"
   ]
  },
  {
   "cell_type": "markdown",
   "id": "7c77b2d4",
   "metadata": {},
   "source": [
    "### 2. What is the difference between string and variable?"
   ]
  },
  {
   "cell_type": "markdown",
   "id": "f41c018a",
   "metadata": {},
   "source": [
    "**Ans:** \n",
    "A String is the information stored in a variable. It is usually a group of characters or a single character in double quotes `\"\"` or single quotes `''`.\n",
    "\n",
    "While a Variable is used to store informations"
   ]
  },
  {
   "cell_type": "markdown",
   "id": "c20a01c8",
   "metadata": {},
   "source": [
    "### 3. Describe three different data types."
   ]
  },
  {
   "cell_type": "markdown",
   "id": "30c0c777",
   "metadata": {},
   "source": [
    "**Ans:** These are three different data types :\n",
    "\n",
    "`str` - A String is an ordered sequence of characters.\n",
    "\n",
    "`int` - An Integer is used to represent whole numbers.\n",
    "\n",
    "`float` - A Float is used to represent decimal number."
   ]
  },
  {
   "cell_type": "code",
   "execution_count": 5,
   "id": "0a7978f8",
   "metadata": {},
   "outputs": [
    {
     "name": "stdout",
     "output_type": "stream",
     "text": [
      "hello <class 'str'>\n",
      "123 <class 'int'>\n",
      "33.33 <class 'float'>\n"
     ]
    }
   ],
   "source": [
    "# Example for Str :\n",
    "string  = \"hello\"\n",
    "print(string, type(string))\n",
    "# Example for int :\n",
    "integer = 123\n",
    "print(integer,type(integer))\n",
    "# Example for float :\n",
    "floaat = 33.33\n",
    "print(floaat,type(floaat))"
   ]
  },
  {
   "cell_type": "markdown",
   "id": "b956c757",
   "metadata": {},
   "source": [
    "### 4. What is an expression made up of? What do all expressions do?"
   ]
  },
  {
   "cell_type": "markdown",
   "id": "e385243d",
   "metadata": {},
   "source": [
    "**Ans:** An expression is a combination of values, variables, operators, and calls to functions. Expressions need to be evaluated. If we ask Python to print an expression, the interpreter evaluates the expression and displays the result."
   ]
  },
  {
   "cell_type": "code",
   "execution_count": 13,
   "id": "65bc3d4f",
   "metadata": {},
   "outputs": [
    {
     "data": {
      "text/plain": [
       "0"
      ]
     },
     "execution_count": 13,
     "metadata": {},
     "output_type": "execute_result"
    }
   ],
   "source": [
    "# Example of expression :\n",
    "2*2+4-8  #This is an expression\n",
    "\n",
    "# After interpreter evalutes the expression, the result will be displayed for this expression as \"0\""
   ]
  },
  {
   "cell_type": "markdown",
   "id": "43fb94c0",
   "metadata": {},
   "source": [
    "### 5.This assignment statements, like spam = 10. What is the difference between an expression and a statement?"
   ]
  },
  {
   "cell_type": "markdown",
   "id": "b5b8d4b5",
   "metadata": {},
   "source": [
    "**Ans:** An expression is a combination of values, variables, and operators.When we type an expression at the prompt, the interpreter evaluates it, which means that it finds the value of the expression.\n",
    "\n",
    "While a statement is a unit of code that has an effect, like creating a variable or displaying a value.When we type a statement, the interpreter executes it, which means that it does whatever the statement says. In general, statements don’t have values."
   ]
  },
  {
   "cell_type": "code",
   "execution_count": 14,
   "id": "10bd465f",
   "metadata": {},
   "outputs": [
    {
     "name": "stdout",
     "output_type": "stream",
     "text": [
      "Hello World!\n"
     ]
    }
   ],
   "source": [
    "# Example :\n",
    "2*2+4-8  #This is an expression\n",
    "var_name = \"Hello World!\" #This is an statement\n",
    "print(\"Hello World!\") #This is an expression statement"
   ]
  },
  {
   "cell_type": "markdown",
   "id": "8f7c89d0",
   "metadata": {},
   "source": [
    "### 6. After running the following code, what does the variable bacon contain?\n",
    "`bacon = 22`\n",
    "\n",
    "`bacon + 1`"
   ]
  },
  {
   "cell_type": "markdown",
   "id": "dc69d084",
   "metadata": {},
   "source": [
    "**Ans:** The variable `bacon` will contain the value `22`. Following are the example of the code."
   ]
  },
  {
   "cell_type": "code",
   "execution_count": 16,
   "id": "5481fe12",
   "metadata": {},
   "outputs": [
    {
     "name": "stdout",
     "output_type": "stream",
     "text": [
      "22\n"
     ]
    }
   ],
   "source": [
    "# Example 1 \n",
    "\n",
    "bacon = 22\n",
    "bacon + 1\n",
    "print(bacon)"
   ]
  },
  {
   "cell_type": "code",
   "execution_count": 18,
   "id": "ccd0842b",
   "metadata": {},
   "outputs": [
    {
     "name": "stdout",
     "output_type": "stream",
     "text": [
      "23\n"
     ]
    }
   ],
   "source": [
    "# Example 2\n",
    "# To change the bacon value correxct code is:\n",
    "\n",
    "bacon = 22\n",
    "bacon = bacon + 1\n",
    "print(bacon)"
   ]
  },
  {
   "cell_type": "markdown",
   "id": "16196908",
   "metadata": {},
   "source": [
    "### 7.What should the values of the following two terms be?\n",
    "`'spam'+'spamspam'`\n",
    "\n",
    "`'spam'*3`"
   ]
  },
  {
   "cell_type": "markdown",
   "id": "f1f640da",
   "metadata": {},
   "source": [
    "**Ans:** Both expressions evaluate to the string `'spamspamspam'` Where as the first expression follows `String Concatentation` and the second expression follows `String Multiplication`"
   ]
  },
  {
   "cell_type": "code",
   "execution_count": 20,
   "id": "4c1c8faf",
   "metadata": {},
   "outputs": [
    {
     "data": {
      "text/plain": [
       "'spamspamspam'"
      ]
     },
     "execution_count": 20,
     "metadata": {},
     "output_type": "execute_result"
    }
   ],
   "source": [
    "# Example\n",
    "'spam'+'spamspam' #this is a string concatentation\n",
    "'spam'*3  #this is string multiplication"
   ]
  },
  {
   "cell_type": "markdown",
   "id": "a86d7ffc",
   "metadata": {},
   "source": [
    "### 8. Why is eggs a valid variable name while 100 is invalid?"
   ]
  },
  {
   "cell_type": "markdown",
   "id": "1a55994a",
   "metadata": {},
   "source": [
    "**Ans:** As per Python rules for the variables, numbers are not allowed as the variable names as `100` is a number, it is not allowed as variable name.\n",
    "\n",
    "While `eggs` is a word made up with letters, hence it is allowed as variable name."
   ]
  },
  {
   "cell_type": "code",
   "execution_count": 23,
   "id": "eba90419",
   "metadata": {},
   "outputs": [
    {
     "ename": "SyntaxError",
     "evalue": "cannot assign to literal here. Maybe you meant '==' instead of '='? (905225543.py, line 3)",
     "output_type": "error",
     "traceback": [
      "\u001b[1;36m  Input \u001b[1;32mIn [23]\u001b[1;36m\u001b[0m\n\u001b[1;33m    100 = 'World!'\u001b[0m\n\u001b[1;37m    ^\u001b[0m\n\u001b[1;31mSyntaxError\u001b[0m\u001b[1;31m:\u001b[0m cannot assign to literal here. Maybe you meant '==' instead of '='?\n"
     ]
    }
   ],
   "source": [
    "# For Example\n",
    "eggs = 'Hello'   #Variable in letter\n",
    "100 = 'World!'   #Variable in Number\n",
    "\n",
    "print(eggs)   #Prints the value of eggs i.e. 'Hello'\n",
    "print(100)    #Throws a SyntaxError mentioned below"
   ]
  },
  {
   "cell_type": "markdown",
   "id": "3adc3028",
   "metadata": {},
   "source": [
    "### 9. What three functions can be used to get the integer, floating-point number, or string version of a value?"
   ]
  },
  {
   "cell_type": "markdown",
   "id": "56f99241",
   "metadata": {},
   "source": [
    " **Ans:** The `int()`,`float()`,and `str()` functions will evaluate to the integer,floating-point number,string version of the value passed to them."
   ]
  },
  {
   "cell_type": "code",
   "execution_count": 25,
   "id": "ee48bef7",
   "metadata": {},
   "outputs": [
    {
     "name": "stdout",
     "output_type": "stream",
     "text": [
      "int(10.0) ->  3\n",
      "float(10) ->  35.0\n",
      "str(10) ->  10\n"
     ]
    }
   ],
   "source": [
    "#Example :\n",
    "\n",
    "print('int(10.0) -> ',int(3.5))  # int() function converts given input to int\n",
    "print('float(10) -> ',float(35))  # float() function converts given input to float\n",
    "print('str(10) -> ',str(10))      # str() function converts given input to string\n"
   ]
  },
  {
   "cell_type": "markdown",
   "id": "df5234a0",
   "metadata": {},
   "source": [
    "### 10.Why does this expression cause an error? how can you fix it? \n",
    "`'I have eaten ' + 99 + 'burritos.'`"
   ]
  },
  {
   "cell_type": "markdown",
   "id": "de929b7c",
   "metadata": {},
   "source": [
    "**Ans:** This cause of error is 99. Because 99 is not a string. 99 must be typecasted to a string to fix this error. the correct way is:"
   ]
  },
  {
   "cell_type": "code",
   "execution_count": 39,
   "id": "c46c848d",
   "metadata": {},
   "outputs": [
    {
     "data": {
      "text/plain": [
       "'I have eaten 99 burritos.'"
      ]
     },
     "execution_count": 39,
     "metadata": {},
     "output_type": "execute_result"
    }
   ],
   "source": [
    "#Example 1\n",
    "'I have eaten ' + \"99\" + ' burritos.'    #Typecast 99 as a string in quotes\n",
    "            #or\n",
    "'I have eaten ' + str(99) + ' burritos.'  #Typecast 99 as a string in str() format"
   ]
  }
 ],
 "metadata": {
  "kernelspec": {
   "display_name": "Python 3 (ipykernel)",
   "language": "python",
   "name": "python3"
  },
  "language_info": {
   "codemirror_mode": {
    "name": "ipython",
    "version": 3
   },
   "file_extension": ".py",
   "mimetype": "text/x-python",
   "name": "python",
   "nbconvert_exporter": "python",
   "pygments_lexer": "ipython3",
   "version": "3.10.5"
  }
 },
 "nbformat": 4,
 "nbformat_minor": 5
}

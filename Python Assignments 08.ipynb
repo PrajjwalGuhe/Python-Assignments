{
 "cells": [
  {
   "cell_type": "markdown",
   "id": "83d15896",
   "metadata": {},
   "source": [
    "# Assignment Solution -08"
   ]
  },
  {
   "cell_type": "markdown",
   "id": "77c7b6ce",
   "metadata": {},
   "source": [
    "### 1. In Python, what is the difference between a built-in function and a user-defined function? Provide an example of each."
   ]
  },
  {
   "cell_type": "markdown",
   "id": "42e97401",
   "metadata": {},
   "source": [
    "**Ans:** \n",
    "* In Python, a `built-in function` is a pre-defined function i.e., the user does not have to create the function it is always ready to use."
   ]
  },
  {
   "cell_type": "code",
   "execution_count": 10,
   "id": "ce43316d",
   "metadata": {},
   "outputs": [
    {
     "data": {
      "text/plain": [
       "15"
      ]
     },
     "execution_count": 10,
     "metadata": {},
     "output_type": "execute_result"
    }
   ],
   "source": [
    "# Example :\n",
    "\n",
    "# sum()\n",
    "a = (1, 2, 3, 4, 5)\n",
    "sum(a)"
   ]
  },
  {
   "cell_type": "markdown",
   "id": "39806848",
   "metadata": {},
   "source": [
    "* A `user-defined function` is not already defined in the interpreter and has to be created by the user."
   ]
  },
  {
   "cell_type": "code",
   "execution_count": 11,
   "id": "325320a1",
   "metadata": {},
   "outputs": [
    {
     "name": "stdout",
     "output_type": "stream",
     "text": [
      "Inside function\n"
     ]
    }
   ],
   "source": [
    "# Example :\n",
    "\n",
    "def fun():\n",
    "    print(\"Inside function\")\n",
    "    \n",
    "fun()"
   ]
  },
  {
   "cell_type": "markdown",
   "id": "98c1df0c",
   "metadata": {},
   "source": [
    "### 2. How can you pass arguments to a function in Python? Explain the difference between positional arguments and keyword arguments."
   ]
  },
  {
   "cell_type": "markdown",
   "id": "9e9d83bc",
   "metadata": {},
   "source": [
    "**Ans:** Arguments are specified after the `function name`, `inside the parentheses`. We can add as many arguments as we want, separating them with commas.\n",
    "* `Positional arguments` must be included in the correct order. \n",
    "* `Keyword arguments` are included with a keyword and equals sign.\n"
   ]
  },
  {
   "cell_type": "markdown",
   "id": "71cc2cd4",
   "metadata": {},
   "source": [
    "### 3. What is the purpose of the return statement in a function? Can a function have multiple return statements? Explain with an example."
   ]
  },
  {
   "cell_type": "markdown",
   "id": "a482dadc",
   "metadata": {},
   "source": [
    "**Ans:** The Python `return` statement is a special statement that you can use inside a function or method to send the function's result back to the caller. No, a function `cannot` have multiple return statements because the function ends after the first return statement.\n"
   ]
  },
  {
   "cell_type": "code",
   "execution_count": 13,
   "id": "13d5cdad",
   "metadata": {},
   "outputs": [
    {
     "data": {
      "text/plain": [
       "3"
      ]
     },
     "execution_count": 13,
     "metadata": {},
     "output_type": "execute_result"
    }
   ],
   "source": [
    "# Example : \n",
    "\n",
    "def foo(n):\n",
    "    n += 1\n",
    "    return n\n",
    "    return n + 100\n",
    "\n",
    "foo(2)  # The second return statement is ignored."
   ]
  },
  {
   "cell_type": "markdown",
   "id": "2d4480bb",
   "metadata": {},
   "source": [
    "### 4. What are lambda functions in Python? How are they different from regular functions? Provide an example where a lambda function can be useful."
   ]
  },
  {
   "cell_type": "markdown",
   "id": "9215b66d",
   "metadata": {},
   "source": [
    "**Ans:** \n",
    "* A `lambda` function is an anonymous function (because it doesn't require a standard function declaration using the def keyword). \n",
    "* A lambda function is `different` from regular functions because it is concise, it is restricted to a single expression and it doesn’t have a specific name associated with it. "
   ]
  },
  {
   "cell_type": "code",
   "execution_count": 14,
   "id": "6e54797f",
   "metadata": {},
   "outputs": [
    {
     "name": "stdout",
     "output_type": "stream",
     "text": [
      "40\n"
     ]
    }
   ],
   "source": [
    "# Example : \n",
    "greater = lambda x, y: x if x > y else y\n",
    "print(greater(30, 40))  #Gives output as 40 which is the greater of the two.\n"
   ]
  },
  {
   "cell_type": "markdown",
   "id": "278907ae",
   "metadata": {},
   "source": [
    "### 5. How does the concept of \"scope\" apply to functions in Python? Explain the difference between local scope and global scope."
   ]
  },
  {
   "cell_type": "markdown",
   "id": "be0e27e3",
   "metadata": {},
   "source": [
    "**Ans:** In Python, `scope` refers to the visibility or accessibility of variables within a specific part of a program.\n",
    "* `Local Scope`\n",
    "1. Local scope refers to variables that are defined inside a specific function or block of code.\n",
    "2. Variables defined within a function are only accessible within that function. They are said to have local scope.\n",
    "3. Local variables are created when the function is called and are destroyed when the function completes its execution.\n",
    "\n",
    "* `Global Scope`\n",
    "1. Global scope refers to variables that are defined outside of any function or block of code.\n",
    "2. Global variables are accessible from anywhere in the program, including within functions.\n",
    "3. Global variables are created when they are defined and remain in memory until the program terminates."
   ]
  },
  {
   "cell_type": "markdown",
   "id": "67af04eb",
   "metadata": {},
   "source": [
    "### 6. How can you use the \"return\" statement in a Python function to return multiple values?"
   ]
  },
  {
   "cell_type": "markdown",
   "id": "a1e35887",
   "metadata": {},
   "source": [
    "**Ans:** We can use the `return` statement in a Python function to return multiple values by using commas.\n"
   ]
  },
  {
   "cell_type": "code",
   "execution_count": 16,
   "id": "1adc22d5",
   "metadata": {},
   "outputs": [],
   "source": [
    "# Example : \n",
    "\n",
    "return a, b, c    #a, b, c are some variables in the function."
   ]
  },
  {
   "cell_type": "markdown",
   "id": "e0d14c9e",
   "metadata": {},
   "source": [
    "### 7. What is the difference between the \"pass by value\" and \"pass by reference\" concepts when it comes to function arguments in Python?"
   ]
  },
  {
   "cell_type": "markdown",
   "id": "61ff048b",
   "metadata": {},
   "source": [
    "**Ans:** In Python, when you `pass` an object as an argument to a function, what gets passed is not the value of the object itself, but a reference to the object. This means that the function receives a copy of the reference to the object, allowing it to access and modify the underlying object. However, the reference itself is passed by value."
   ]
  },
  {
   "cell_type": "markdown",
   "id": "958d8bf0",
   "metadata": {},
   "source": [
    "### 8. Create a function that can intake integer or decimal value and do following operations:\n",
    "* Logarithmic function (log x)\n",
    "* Exponential function (exp(x))\n",
    "* Power function with base 2 (2x)\n",
    "* Square root\n",
    "\n",
    "\n",
    "**Ans:**"
   ]
  },
  {
   "cell_type": "code",
   "execution_count": 17,
   "id": "2abaad0c",
   "metadata": {},
   "outputs": [
    {
     "data": {
      "text/plain": [
       "(1.6094379124341003, 148.4131591025766, 32.0, 2.23606797749979)"
      ]
     },
     "execution_count": 17,
     "metadata": {},
     "output_type": "execute_result"
    }
   ],
   "source": [
    "import math\n",
    "\n",
    "def operations(n):\n",
    "    log = math.log(n) #Calculates logarithmic function\n",
    "    exp = math.exp(n) #Calculates exponential function\n",
    "    power = math.pow(2, n) #Calculates power function with base 2\n",
    "    sqrt = math.sqrt(n) #Calculates square root\n",
    "\n",
    "    return log, exp, power, sqrt\n",
    "\n",
    "operations(5)\n"
   ]
  },
  {
   "cell_type": "markdown",
   "id": "7de8e3d9",
   "metadata": {},
   "source": [
    "### 9. Create a function that takes a full name as an argument and returns first name and last name."
   ]
  },
  {
   "cell_type": "markdown",
   "id": "a7f1c675",
   "metadata": {},
   "source": [
    "**Ans:** \n"
   ]
  },
  {
   "cell_type": "code",
   "execution_count": 20,
   "id": "f467b5ee",
   "metadata": {},
   "outputs": [
    {
     "name": "stdout",
     "output_type": "stream",
     "text": [
      "First name is:  Jon\n",
      "Last name is:  Snow\n"
     ]
    }
   ],
   "source": [
    "def get_first_last_name(full_name):\n",
    "    names = full_name.split()\n",
    "    first_name = names[0]\n",
    "    last_name = names[-1]\n",
    "    return first_name, last_name\n",
    "\n",
    "\n",
    "full_name = \"Jon Snow\"\n",
    "first_name, last_name = get_first_last_name(full_name)\n",
    "print(\"First name is: \", first_name)\n",
    "print(\"Last name is: \", last_name)\n"
   ]
  }
 ],
 "metadata": {
  "kernelspec": {
   "display_name": "Python 3 (ipykernel)",
   "language": "python",
   "name": "python3"
  },
  "language_info": {
   "codemirror_mode": {
    "name": "ipython",
    "version": 3
   },
   "file_extension": ".py",
   "mimetype": "text/x-python",
   "name": "python",
   "nbconvert_exporter": "python",
   "pygments_lexer": "ipython3",
   "version": "3.10.5"
  }
 },
 "nbformat": 4,
 "nbformat_minor": 5
}

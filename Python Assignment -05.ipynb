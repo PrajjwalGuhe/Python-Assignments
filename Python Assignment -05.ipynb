{
 "cells": [
  {
   "cell_type": "markdown",
   "id": "28d016de",
   "metadata": {},
   "source": [
    "# Assignment Solutions -05\n"
   ]
  },
  {
   "cell_type": "markdown",
   "id": "ac0b0724",
   "metadata": {},
   "source": [
    "###  1.What does an empty dictionary's code look like?"
   ]
  },
  {
   "cell_type": "markdown",
   "id": "1c09220b",
   "metadata": {},
   "source": [
    "**Ans:** An empty dictionary is often represented by two empty curly brackets.\n",
    "i.e.\n",
    "    `d = {}` or `d = dict()`"
   ]
  },
  {
   "cell_type": "markdown",
   "id": "f56e5c24",
   "metadata": {},
   "source": [
    "### 2.what is the value of dictionary value with key 'foo' and the value 42 ?"
   ]
  },
  {
   "cell_type": "markdown",
   "id": "71aefe28",
   "metadata": {},
   "source": [
    "**Ans:** `{'foo':42}` will be the value of dictionary."
   ]
  },
  {
   "cell_type": "markdown",
   "id": "ddb15a05",
   "metadata": {},
   "source": [
    "### 3.What is the most significant distinction between a dictionary and a list?"
   ]
  },
  {
   "cell_type": "markdown",
   "id": "95359403",
   "metadata": {},
   "source": [
    "**Ans:** Dictionaries are represented by `{}` where as listed are represented by `[]`\n",
    "The Items stored in a dictionary are `Unordered` , while the items in a list are `ordered\n",
    "`\n"
   ]
  },
  {
   "cell_type": "markdown",
   "id": "ff13ed65",
   "metadata": {},
   "source": [
    "### 4.What happens if you try to access spam ['foo'] if spam is {'bar':100} ?"
   ]
  },
  {
   "cell_type": "markdown",
   "id": "3658ca6c",
   "metadata": {},
   "source": [
    "**Ans:** we will get a keyError *`KeyError: 'foo'`*"
   ]
  },
  {
   "cell_type": "code",
   "execution_count": 31,
   "id": "fe11f42b",
   "metadata": {},
   "outputs": [
    {
     "ename": "KeyError",
     "evalue": "'foo'",
     "output_type": "error",
     "traceback": [
      "\u001b[1;31m---------------------------------------------------------------------------\u001b[0m",
      "\u001b[1;31mKeyError\u001b[0m                                  Traceback (most recent call last)",
      "Input \u001b[1;32mIn [31]\u001b[0m, in \u001b[0;36m<cell line: 2>\u001b[1;34m()\u001b[0m\n\u001b[0;32m      1\u001b[0m spam \u001b[38;5;241m=\u001b[39m {\u001b[38;5;124m'\u001b[39m\u001b[38;5;124mbar\u001b[39m\u001b[38;5;124m'\u001b[39m:\u001b[38;5;241m100\u001b[39m}\n\u001b[1;32m----> 2\u001b[0m \u001b[38;5;28mprint\u001b[39m(\u001b[43mspam\u001b[49m\u001b[43m[\u001b[49m\u001b[38;5;124;43m'\u001b[39;49m\u001b[38;5;124;43mfoo\u001b[39;49m\u001b[38;5;124;43m'\u001b[39;49m\u001b[43m]\u001b[49m)\n",
      "\u001b[1;31mKeyError\u001b[0m: 'foo'"
     ]
    }
   ],
   "source": [
    "spam = {'bar':100}\n",
    "print(spam['foo'])"
   ]
  },
  {
   "cell_type": "markdown",
   "id": "8b662d3b",
   "metadata": {},
   "source": [
    "### 5.if a dictionary is stored in spam,what is the difference between the expressions 'cat' in spam and 'cat' in spam.keys() ?"
   ]
  },
  {
   "cell_type": "markdown",
   "id": "9d4b1de2",
   "metadata": {},
   "source": [
    "**Ans**: There is no difference . The operator checks whether a value exits as a key in the dictionary or not."
   ]
  },
  {
   "cell_type": "markdown",
   "id": "170d7c80",
   "metadata": {},
   "source": [
    "### 6.if a dictionary is stored in spam,what is the difference between the expressions 'cat' in spam and 'cat' in spam.values() ?"
   ]
  },
  {
   "cell_type": "markdown",
   "id": "fed04f29",
   "metadata": {},
   "source": [
    "**Ans:** `'cat' in spam` checks whether there is a 'cat' key in the dictionary, while `'cat' in spam.values()` checks whether there is a value 'cat' for one of the keys in spam."
   ]
  },
  {
   "cell_type": "markdown",
   "id": "257cead9",
   "metadata": {},
   "source": [
    "### 7.what is a shortcut for the following code ?\n",
    "\n",
    "*`if 'color' not in spam:`*\n",
    "\n",
    " *`spam['color'] ='black'`*"
   ]
  },
  {
   "cell_type": "markdown",
   "id": "d5f28319",
   "metadata": {},
   "source": [
    "**Ans:** `spam.setdefault('color','black')`"
   ]
  },
  {
   "cell_type": "markdown",
   "id": "4bd711df",
   "metadata": {},
   "source": [
    "### 8.How do you 'pretty print' dictionary values using which modules and function ?"
   ]
  },
  {
   "cell_type": "markdown",
   "id": "5515c2d4",
   "metadata": {},
   "source": [
    "**Ans:** we can pretty print a dictionary using three functions\n",
    "\n",
    "1. by using pprint() function of pprint module\n",
    "\n",
    "\n",
    "2. by using dumps() method of json module\n",
    "\n",
    "\n",
    "3. by using dumps() method of yaml module"
   ]
  },
  {
   "cell_type": "code",
   "execution_count": 34,
   "id": "e1e98eaf",
   "metadata": {},
   "outputs": [
    {
     "name": "stdout",
     "output_type": "stream",
     "text": [
      "Printing using print() function\n",
      " [{'Name': 'John', 'Age': '23', 'Residence': {'Country': 'USA', 'City': 'New York'}}, {'Name': 'Jose', 'Age': '44', 'Residence': {'Country': 'Spain', 'City': 'Madrid'}}, {'Name': 'Anne', 'Age': '29', 'Residence': {'Country': 'UK', 'City': 'England'}}, {'Name': 'Lee', 'Age': '35', 'Residence': {'Country': 'Japan', 'City': 'Osaka'}}]\n",
      "----------------------------------------------------------------------\n",
      "Printing using pprint() funciton\n",
      "[{'Age': '23',\n",
      "  'Name': 'John',\n",
      "  'Residence': {'City': 'New York', 'Country': 'USA'}},\n",
      " {'Age': '44',\n",
      "  'Name': 'Jose',\n",
      "  'Residence': {'City': 'Madrid', 'Country': 'Spain'}},\n",
      " {'Age': '29',\n",
      "  'Name': 'Anne',\n",
      "  'Residence': {'City': 'England', 'Country': 'UK'}},\n",
      " {'Age': '35',\n",
      "  'Name': 'Lee',\n",
      "  'Residence': {'City': 'Osaka', 'Country': 'Japan'}}]\n",
      "----------------------------------------------------------------------\n",
      "Printing using dumps() method\n",
      " [\n",
      "    {\n",
      "        \"Name\": \"John\",\n",
      "        \"Age\": \"23\",\n",
      "        \"Residence\": {\n",
      "            \"Country\": \"USA\",\n",
      "            \"City\": \"New York\"\n",
      "        }\n",
      "    },\n",
      "    {\n",
      "        \"Name\": \"Jose\",\n",
      "        \"Age\": \"44\",\n",
      "        \"Residence\": {\n",
      "            \"Country\": \"Spain\",\n",
      "            \"City\": \"Madrid\"\n",
      "        }\n",
      "    },\n",
      "    {\n",
      "        \"Name\": \"Anne\",\n",
      "        \"Age\": \"29\",\n",
      "        \"Residence\": {\n",
      "            \"Country\": \"UK\",\n",
      "            \"City\": \"England\"\n",
      "        }\n",
      "    },\n",
      "    {\n",
      "        \"Name\": \"Lee\",\n",
      "        \"Age\": \"35\",\n",
      "        \"Residence\": {\n",
      "            \"Country\": \"Japan\",\n",
      "            \"City\": \"Osaka\"\n",
      "        }\n",
      "    }\n",
      "]\n",
      "----------------------------------------------------------------------\n"
     ]
    }
   ],
   "source": [
    "ndict = [\n",
    "  {'Name': 'John', 'Age': '23', 'Residence': {'Country':'USA', 'City': 'New York'}},\n",
    "  {'Name': 'Jose', 'Age': '44', 'Residence': {'Country':'Spain', 'City': 'Madrid'}},\n",
    "  {'Name': 'Anne', 'Age': '29', 'Residence': {'Country':'UK', 'City': 'England'}},\n",
    "  {'Name': 'Lee', 'Age': '35', 'Residence': {'Country':'Japan', 'City': 'Osaka'}}\n",
    "]\n",
    "\n",
    "print('Printing using print() function\\n',ndict)\n",
    "print('-'*70)\n",
    "\n",
    "import pprint\n",
    "print('Printing using pprint() funciton')\n",
    "pprint.pprint(ndict)\n",
    "print('-'*70)\n",
    "\n",
    "import json\n",
    "dump = json.dumps(ndict, indent=4)\n",
    "print('Printing using dumps() method\\n', dump)\n",
    "print('-'*70)\n",
    "\n",
    "import yaml\n",
    "dump = yaml.dump(ndict)\n",
    "print('Printing using dump() method\\n', dump)"
   ]
  }
 ],
 "metadata": {
  "kernelspec": {
   "display_name": "Python 3 (ipykernel)",
   "language": "python",
   "name": "python3"
  },
  "language_info": {
   "codemirror_mode": {
    "name": "ipython",
    "version": 3
   },
   "file_extension": ".py",
   "mimetype": "text/x-python",
   "name": "python",
   "nbconvert_exporter": "python",
   "pygments_lexer": "ipython3",
   "version": "3.10.5"
  }
 },
 "nbformat": 4,
 "nbformat_minor": 5
}

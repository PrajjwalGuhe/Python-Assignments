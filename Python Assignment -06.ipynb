{
 "cells": [
  {
   "cell_type": "markdown",
   "id": "6f5370d7",
   "metadata": {},
   "source": [
    "# Assignment Solution -06\n"
   ]
  },
  {
   "cell_type": "markdown",
   "id": "1bfc4637",
   "metadata": {},
   "source": [
    "### Q.1. What are keywords in python? Using the keyword library, print all the python keywords."
   ]
  },
  {
   "cell_type": "markdown",
   "id": "da539da0",
   "metadata": {},
   "source": [
    "**Ans** `Keywords` in Python are reserved words that can not be used as a variable name, function name, or any other identifier."
   ]
  },
  {
   "cell_type": "code",
   "execution_count": 14,
   "id": "3884e333",
   "metadata": {},
   "outputs": [
    {
     "name": "stdout",
     "output_type": "stream",
     "text": [
      "The list of Keywords are : \n",
      " \t ['False', 'None', 'True', 'and', 'as', 'assert', 'async', 'await', 'break', 'class', 'continue', 'def', 'del', 'elif', 'else', 'except', 'finally', 'for', 'from', 'global', 'if', 'import', 'in', 'is', 'lambda', 'nonlocal', 'not', 'or', 'pass', 'raise', 'return', 'try', 'while', 'with', 'yield']\n"
     ]
    }
   ],
   "source": [
    "import keyword\n",
    "\n",
    "# printing all keywords at once using \"kwlist()\"\n",
    "print(f\"The list of Keywords are : \\n \\t {keyword.kwlist}\")"
   ]
  },
  {
   "cell_type": "markdown",
   "id": "5618761f",
   "metadata": {},
   "source": [
    "### Q.2. What are the rules to create variables in python?"
   ]
  },
  {
   "cell_type": "markdown",
   "id": "574302a9",
   "metadata": {},
   "source": [
    "**Ans:** \n",
    "\n",
    "**Rules for Python variables:**\n",
    "\n",
    "* A variable name must start with a letter or the underscore character\n",
    "* A variable name cannot start with a number\n",
    "* A variable name can only contain alpha-numeric characters and underscores (A-z, 0-9, and _ )\n",
    "* Variable names are case-sensitive (age, Age and AGE are three different variables)"
   ]
  },
  {
   "cell_type": "markdown",
   "id": "3cd38fd2",
   "metadata": {},
   "source": [
    "### Q.3. What are the standards and conventions followed for the nomenclature of variables in python to improve code readability and maintainability?"
   ]
  },
  {
   "cell_type": "markdown",
   "id": "f88b1c31",
   "metadata": {},
   "source": [
    "**Ans:** \n",
    "In Python, there are several standards and conventions followed for variable naming to enhance code readability and maintainability. These conventions include:\n",
    "\n",
    "* Snake Case: Variable names are written in lowercase with words separated by underscores (e.g., my_variable, total_count).\n",
    "\n",
    "* Descriptive Names: Variable names should be meaningful and descriptive to convey their purpose and content (e.g., num_students, user_input).\n",
    "\n",
    "* Avoid Abbreviations: Unless widely used and understood, it's better to avoid excessive abbreviations to maintain clarity (e.g., use maximum instead of max).\n",
    "\n",
    "* Use of Constants: Constants are usually written in uppercase letters with underscores (e.g., MAX_VALUE, PI).\n",
    "\n",
    "By following these standards and conventions, code becomes more readable, self-explanatory, and easier to maintain, enabling collaboration and understanding among developers."
   ]
  },
  {
   "cell_type": "markdown",
   "id": "3ae30aaa",
   "metadata": {},
   "source": [
    "### Q.4. What will happen if a keyword is used as a variable name?"
   ]
  },
  {
   "cell_type": "markdown",
   "id": "ab48d0ef",
   "metadata": {},
   "source": [
    "**Ans:** It will throw a `SyntaxError`, As we know Keywords cannot be used as Variable Names as they are reserved in Python.\n",
    "\n",
    "*For Example:*"
   ]
  },
  {
   "cell_type": "code",
   "execution_count": 15,
   "id": "b4a46850",
   "metadata": {
    "scrolled": false
   },
   "outputs": [
    {
     "ename": "SyntaxError",
     "evalue": "cannot assign to True (98253393.py, line 1)",
     "output_type": "error",
     "traceback": [
      "\u001b[1;36m  Input \u001b[1;32mIn [15]\u001b[1;36m\u001b[0m\n\u001b[1;33m    True = \"hey\"\u001b[0m\n\u001b[1;37m    ^\u001b[0m\n\u001b[1;31mSyntaxError\u001b[0m\u001b[1;31m:\u001b[0m cannot assign to True\n"
     ]
    }
   ],
   "source": [
    "True = \"hey\"\n",
    "print(True)"
   ]
  },
  {
   "cell_type": "markdown",
   "id": "d10c9a10",
   "metadata": {},
   "source": [
    "### Q.5. For what purpose def keyword is used?"
   ]
  },
  {
   "cell_type": "markdown",
   "id": "4c45ecf1",
   "metadata": {},
   "source": [
    "**Ans:** The `def` keyword is used to define a function.\n",
    "\n",
    "*For Example:*"
   ]
  },
  {
   "cell_type": "code",
   "execution_count": 10,
   "id": "355d7f33",
   "metadata": {},
   "outputs": [],
   "source": [
    "def my_function():\n",
    "    print(\"This is my function.\")"
   ]
  },
  {
   "cell_type": "markdown",
   "id": "21a60109",
   "metadata": {},
   "source": [
    "### Q.6. What is the operation of this special character ‘\\’?"
   ]
  },
  {
   "cell_type": "markdown",
   "id": "5e782660",
   "metadata": {},
   "source": [
    "**Ans:** It is used in representing certain whitespace characters: `\"\\t\" is a tab`, `\"\\n\" is a newline`, and `\"\\r\" is a carriage return`."
   ]
  },
  {
   "cell_type": "markdown",
   "id": "99835850",
   "metadata": {},
   "source": [
    "### Q.7. Give an example of the following conditions:\n",
    "*  Homogeneous list\n",
    "*  Heterogeneous set\n",
    "*  Homogeneous tuple"
   ]
  },
  {
   "cell_type": "code",
   "execution_count": 20,
   "id": "360197bd",
   "metadata": {},
   "outputs": [
    {
     "name": "stdout",
     "output_type": "stream",
     "text": [
      "['apple', 'banana', 'mango']\n"
     ]
    }
   ],
   "source": [
    "# Homogeneous list\n",
    "Fruits = [\"apple\",\"banana\",\"mango\"]\n",
    "print(Fruits)"
   ]
  },
  {
   "cell_type": "code",
   "execution_count": 21,
   "id": "8307e69a",
   "metadata": {},
   "outputs": [
    {
     "name": "stdout",
     "output_type": "stream",
     "text": [
      "{True, 'for', 52.7, 'Geeks', 10}\n"
     ]
    }
   ],
   "source": [
    "# Heterogeneous set\n",
    "myset = {\"Geeks\", \"for\", 10, 52.7, True}\n",
    "print(myset)"
   ]
  },
  {
   "cell_type": "code",
   "execution_count": 22,
   "id": "66a3dc67",
   "metadata": {},
   "outputs": [
    {
     "name": "stdout",
     "output_type": "stream",
     "text": [
      "(0, 1, 2, 3)\n"
     ]
    }
   ],
   "source": [
    "# Homogeneous tuple\n",
    "Tuple1 = (0, 1, 2, 3)\n",
    "print(Tuple1)"
   ]
  },
  {
   "cell_type": "markdown",
   "id": "f98b06ba",
   "metadata": {},
   "source": [
    "### Q.8. Explain the mutable and immutable data types with proper explanation & examples."
   ]
  },
  {
   "cell_type": "markdown",
   "id": "4a443fa0",
   "metadata": {},
   "source": [
    "**Ans:** \n",
    "Mutable data types can be altered after their creation. This means that you can change their state, add or remove elements, or modify their content.\n",
    " * Examples of mutable data types include lists, sets, and dictionaries."
   ]
  },
  {
   "cell_type": "markdown",
   "id": "9a0cd655",
   "metadata": {},
   "source": [
    "Immutable data types, once created, cannot be changed. Any operation that appears to modify an immutable data type actually creates a new object with the desired changes. \n",
    "* Examples of immutable data types include integers, floats, strings, and tuples."
   ]
  },
  {
   "cell_type": "markdown",
   "id": "d3df1547",
   "metadata": {},
   "source": [
    "### Q.9. Write a code to create the given structure using only for loop.\n",
    "     \n",
    "        *\n",
    "       ***\n",
    "      *****\n",
    "     *******\n",
    "    *********"
   ]
  },
  {
   "cell_type": "code",
   "execution_count": 1,
   "id": "bc0a82c2",
   "metadata": {},
   "outputs": [
    {
     "name": "stdout",
     "output_type": "stream",
     "text": [
      "          * \n",
      "        * * * \n",
      "      * * * * * \n",
      "    * * * * * * * \n",
      "  * * * * * * * * * \n"
     ]
    }
   ],
   "source": [
    "n = 5\n",
    "\n",
    "for i in range(n):\n",
    "    for j in range(i,n):\n",
    "        print(\" \", end = \" \")\n",
    "    for j in range(i):\n",
    "        print(\"*\", end=\" \")\n",
    "    for j in range(i+1):\n",
    "        print(\"*\", end=\" \")\n",
    "    print()"
   ]
  },
  {
   "cell_type": "markdown",
   "id": "d0e956e4",
   "metadata": {},
   "source": [
    "### Q.10. Write a code to create the given structure using while loop.\n",
    "\n",
    "      | | | | | | | | | \n",
    "        | | | | | | | \n",
    "          | | | | | \n",
    "            | | | \n",
    "              | "
   ]
  },
  {
   "cell_type": "code",
   "execution_count": 2,
   "id": "caba549e",
   "metadata": {},
   "outputs": [
    {
     "name": "stdout",
     "output_type": "stream",
     "text": [
      "  | | | | | | | | | \n",
      "    | | | | | | | \n",
      "      | | | | | \n",
      "        | | | \n",
      "          | \n"
     ]
    }
   ],
   "source": [
    "n=5\n",
    "\n",
    "for i in range(n):\n",
    "    for j in range(i+1):\n",
    "        print(\" \", end =\" \")\n",
    "    for j in range(i,n):\n",
    "        print(\"|\", end= \" \")\n",
    "    for j in range(i, n-1):\n",
    "        print(\"|\", end= \" \")\n",
    "    print()"
   ]
  }
 ],
 "metadata": {
  "kernelspec": {
   "display_name": "Python 3 (ipykernel)",
   "language": "python",
   "name": "python3"
  },
  "language_info": {
   "codemirror_mode": {
    "name": "ipython",
    "version": 3
   },
   "file_extension": ".py",
   "mimetype": "text/x-python",
   "name": "python",
   "nbconvert_exporter": "python",
   "pygments_lexer": "ipython3",
   "version": "3.10.5"
  }
 },
 "nbformat": 4,
 "nbformat_minor": 5
}
